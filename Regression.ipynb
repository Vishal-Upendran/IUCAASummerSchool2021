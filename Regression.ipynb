{
  "nbformat": 4,
  "nbformat_minor": 5,
  "metadata": {
    "kernelspec": {
      "display_name": "Python 3",
      "language": "python",
      "name": "python3"
    },
    "language_info": {
      "codemirror_mode": {
        "name": "ipython",
        "version": 3
      },
      "file_extension": ".py",
      "mimetype": "text/x-python",
      "name": "python",
      "nbconvert_exporter": "python",
      "pygments_lexer": "ipython3",
      "version": "3.8.5"
    },
    "colab": {
      "name": "Day_2_Regression",
      "provenance": [],
      "include_colab_link": true
    },
    "accelerator": "GPU",
    "widgets": {
      "application/vnd.jupyter.widget-state+json": {
        "9092a442ad134983a535162da5b0124c": {
          "model_module": "@jupyter-widgets/controls",
          "model_name": "HBoxModel",
          "state": {
            "_view_name": "HBoxView",
            "_dom_classes": [],
            "_model_name": "HBoxModel",
            "_view_module": "@jupyter-widgets/controls",
            "_model_module_version": "1.5.0",
            "_view_count": null,
            "_view_module_version": "1.5.0",
            "box_style": "",
            "layout": "IPY_MODEL_1d4d7594c55147c68ca6864d1317ff42",
            "_model_module": "@jupyter-widgets/controls",
            "children": [
              "IPY_MODEL_3e9e5e351dcb45ed921afc869cd0485c",
              "IPY_MODEL_d433f8da496f45a783590ec7192175dd"
            ]
          }
        },
        "1d4d7594c55147c68ca6864d1317ff42": {
          "model_module": "@jupyter-widgets/base",
          "model_name": "LayoutModel",
          "state": {
            "_view_name": "LayoutView",
            "grid_template_rows": null,
            "right": null,
            "justify_content": null,
            "_view_module": "@jupyter-widgets/base",
            "overflow": null,
            "_model_module_version": "1.2.0",
            "_view_count": null,
            "flex_flow": null,
            "width": null,
            "min_width": null,
            "border": null,
            "align_items": null,
            "bottom": null,
            "_model_module": "@jupyter-widgets/base",
            "top": null,
            "grid_column": null,
            "overflow_y": null,
            "overflow_x": null,
            "grid_auto_flow": null,
            "grid_area": null,
            "grid_template_columns": null,
            "flex": null,
            "_model_name": "LayoutModel",
            "justify_items": null,
            "grid_row": null,
            "max_height": null,
            "align_content": null,
            "visibility": null,
            "align_self": null,
            "height": null,
            "min_height": null,
            "padding": null,
            "grid_auto_rows": null,
            "grid_gap": null,
            "max_width": null,
            "order": null,
            "_view_module_version": "1.2.0",
            "grid_template_areas": null,
            "object_position": null,
            "object_fit": null,
            "grid_auto_columns": null,
            "margin": null,
            "display": null,
            "left": null
          }
        },
        "3e9e5e351dcb45ed921afc869cd0485c": {
          "model_module": "@jupyter-widgets/controls",
          "model_name": "FloatProgressModel",
          "state": {
            "_view_name": "ProgressView",
            "style": "IPY_MODEL_a91c89ded19f423f8f8c7639ccefefe7",
            "_dom_classes": [],
            "description": " 52%",
            "_model_name": "FloatProgressModel",
            "bar_style": "",
            "max": 10000,
            "_view_module": "@jupyter-widgets/controls",
            "_model_module_version": "1.5.0",
            "value": 5194,
            "_view_count": null,
            "_view_module_version": "1.5.0",
            "orientation": "horizontal",
            "min": 0,
            "description_tooltip": null,
            "_model_module": "@jupyter-widgets/controls",
            "layout": "IPY_MODEL_c4e7580c399048238a86e585cd600547"
          }
        },
        "d433f8da496f45a783590ec7192175dd": {
          "model_module": "@jupyter-widgets/controls",
          "model_name": "HTMLModel",
          "state": {
            "_view_name": "HTMLView",
            "style": "IPY_MODEL_88ed6344c98947caaa0c28823e813cc0",
            "_dom_classes": [],
            "description": "",
            "_model_name": "HTMLModel",
            "placeholder": "​",
            "_view_module": "@jupyter-widgets/controls",
            "_model_module_version": "1.5.0",
            "value": " 5194/10000 [45:44&lt;43:59,  1.82it/s]",
            "_view_count": null,
            "_view_module_version": "1.5.0",
            "description_tooltip": null,
            "_model_module": "@jupyter-widgets/controls",
            "layout": "IPY_MODEL_c2780d3acb284d7297f627a7f9db967f"
          }
        },
        "a91c89ded19f423f8f8c7639ccefefe7": {
          "model_module": "@jupyter-widgets/controls",
          "model_name": "ProgressStyleModel",
          "state": {
            "_view_name": "StyleView",
            "_model_name": "ProgressStyleModel",
            "description_width": "initial",
            "_view_module": "@jupyter-widgets/base",
            "_model_module_version": "1.5.0",
            "_view_count": null,
            "_view_module_version": "1.2.0",
            "bar_color": null,
            "_model_module": "@jupyter-widgets/controls"
          }
        },
        "c4e7580c399048238a86e585cd600547": {
          "model_module": "@jupyter-widgets/base",
          "model_name": "LayoutModel",
          "state": {
            "_view_name": "LayoutView",
            "grid_template_rows": null,
            "right": null,
            "justify_content": null,
            "_view_module": "@jupyter-widgets/base",
            "overflow": null,
            "_model_module_version": "1.2.0",
            "_view_count": null,
            "flex_flow": null,
            "width": null,
            "min_width": null,
            "border": null,
            "align_items": null,
            "bottom": null,
            "_model_module": "@jupyter-widgets/base",
            "top": null,
            "grid_column": null,
            "overflow_y": null,
            "overflow_x": null,
            "grid_auto_flow": null,
            "grid_area": null,
            "grid_template_columns": null,
            "flex": null,
            "_model_name": "LayoutModel",
            "justify_items": null,
            "grid_row": null,
            "max_height": null,
            "align_content": null,
            "visibility": null,
            "align_self": null,
            "height": null,
            "min_height": null,
            "padding": null,
            "grid_auto_rows": null,
            "grid_gap": null,
            "max_width": null,
            "order": null,
            "_view_module_version": "1.2.0",
            "grid_template_areas": null,
            "object_position": null,
            "object_fit": null,
            "grid_auto_columns": null,
            "margin": null,
            "display": null,
            "left": null
          }
        },
        "88ed6344c98947caaa0c28823e813cc0": {
          "model_module": "@jupyter-widgets/controls",
          "model_name": "DescriptionStyleModel",
          "state": {
            "_view_name": "StyleView",
            "_model_name": "DescriptionStyleModel",
            "description_width": "",
            "_view_module": "@jupyter-widgets/base",
            "_model_module_version": "1.5.0",
            "_view_count": null,
            "_view_module_version": "1.2.0",
            "_model_module": "@jupyter-widgets/controls"
          }
        },
        "c2780d3acb284d7297f627a7f9db967f": {
          "model_module": "@jupyter-widgets/base",
          "model_name": "LayoutModel",
          "state": {
            "_view_name": "LayoutView",
            "grid_template_rows": null,
            "right": null,
            "justify_content": null,
            "_view_module": "@jupyter-widgets/base",
            "overflow": null,
            "_model_module_version": "1.2.0",
            "_view_count": null,
            "flex_flow": null,
            "width": null,
            "min_width": null,
            "border": null,
            "align_items": null,
            "bottom": null,
            "_model_module": "@jupyter-widgets/base",
            "top": null,
            "grid_column": null,
            "overflow_y": null,
            "overflow_x": null,
            "grid_auto_flow": null,
            "grid_area": null,
            "grid_template_columns": null,
            "flex": null,
            "_model_name": "LayoutModel",
            "justify_items": null,
            "grid_row": null,
            "max_height": null,
            "align_content": null,
            "visibility": null,
            "align_self": null,
            "height": null,
            "min_height": null,
            "padding": null,
            "grid_auto_rows": null,
            "grid_gap": null,
            "max_width": null,
            "order": null,
            "_view_module_version": "1.2.0",
            "grid_template_areas": null,
            "object_position": null,
            "object_fit": null,
            "grid_auto_columns": null,
            "margin": null,
            "display": null,
            "left": null
          }
        }
      }
    }
  },
  "cells": [
    {
      "cell_type": "markdown",
      "metadata": {
        "id": "view-in-github",
        "colab_type": "text"
      },
      "source": [
        "<a href=\"https://colab.research.google.com/github/Vishal-Upendran/IUCAASummerSchool2021/blob/main/Regression.ipynb\" target=\"_parent\"><img src=\"https://colab.research.google.com/assets/colab-badge.svg\" alt=\"Open In Colab\"/></a>"
      ]
    },
    {
      "cell_type": "markdown",
      "metadata": {
        "id": "north-crawford"
      },
      "source": [
        "# Estimate actual redshifts from photometric data\n",
        "\n",
        "We have photometric data -- magnitudes and colors. We will use this to estimate the actual redshift of the object as measured through its spectrum."
      ],
      "id": "north-crawford"
    },
    {
      "cell_type": "markdown",
      "metadata": {
        "id": "settled-director"
      },
      "source": [
        "## Step wise procedure\n",
        "\n",
        "1. Data preparation and processing\n",
        "2. Pre-preparation: Have summary metrics ready.\n",
        "3. Linear: Regression using Ordinary least squares\n",
        "4. Non-linear: Let's do a Neural network in pytorch"
      ],
      "id": "settled-director"
    },
    {
      "cell_type": "code",
      "metadata": {
        "id": "dense-bottom"
      },
      "source": [
        "%matplotlib inline\n",
        "import numpy as np\n",
        "import matplotlib.pyplot as plt \n",
        "import pandas as pd\n",
        "import warnings\n",
        "warnings.filterwarnings('ignore')"
      ],
      "id": "dense-bottom",
      "execution_count": 57,
      "outputs": []
    },
    {
      "cell_type": "code",
      "metadata": {
        "id": "efficient-heading"
      },
      "source": [
        "import seaborn as sns"
      ],
      "id": "efficient-heading",
      "execution_count": 2,
      "outputs": []
    },
    {
      "cell_type": "markdown",
      "metadata": {
        "id": "Lo6zu-UFj806"
      },
      "source": [
        "# Step 1: Download data"
      ],
      "id": "Lo6zu-UFj806"
    },
    {
      "cell_type": "code",
      "metadata": {
        "colab": {
          "base_uri": "https://localhost:8080/"
        },
        "id": "_6rfCublj1OU",
        "outputId": "cc8767c3-2f90-46ed-e0aa-d9b48870ca75"
      },
      "source": [
        "!gdown --id 1D7OZ_ibIjl-2clagDXHBgiX_-BxAycmK "
      ],
      "id": "_6rfCublj1OU",
      "execution_count": 3,
      "outputs": [
        {
          "output_type": "stream",
          "text": [
            "mkdir: cannot create directory ‘Data/’: File exists\n",
            "Downloading...\n",
            "From: https://drive.google.com/uc?id=1D7OZ_ibIjl-2clagDXHBgiX_-BxAycmK\n",
            "To: /content/Skyserver_12_15_2020 3 45 07 AM.csv\n",
            "82.5MB [00:01, 51.0MB/s]\n"
          ],
          "name": "stdout"
        }
      ]
    },
    {
      "cell_type": "code",
      "metadata": {
        "colab": {
          "base_uri": "https://localhost:8080/",
          "height": 357
        },
        "id": "2y8QYLmrSy1K",
        "outputId": "6c6c7539-90bb-4bf5-c3a5-a31d07d59410"
      },
      "source": [
        "!pip install scikit-learn --upgrade"
      ],
      "id": "2y8QYLmrSy1K",
      "execution_count": 34,
      "outputs": [
        {
          "output_type": "stream",
          "text": [
            "Collecting scikit-learn\n",
            "\u001b[?25l  Downloading https://files.pythonhosted.org/packages/a8/eb/a48f25c967526b66d5f1fa7a984594f0bf0a5afafa94a8c4dbc317744620/scikit_learn-0.24.2-cp37-cp37m-manylinux2010_x86_64.whl (22.3MB)\n",
            "\u001b[K     |████████████████████████████████| 22.3MB 1.3MB/s \n",
            "\u001b[?25hCollecting threadpoolctl>=2.0.0\n",
            "  Downloading https://files.pythonhosted.org/packages/f7/12/ec3f2e203afa394a149911729357aa48affc59c20e2c1c8297a60f33f133/threadpoolctl-2.1.0-py3-none-any.whl\n",
            "Requirement already satisfied, skipping upgrade: numpy>=1.13.3 in /usr/local/lib/python3.7/dist-packages (from scikit-learn) (1.19.5)\n",
            "Requirement already satisfied, skipping upgrade: joblib>=0.11 in /usr/local/lib/python3.7/dist-packages (from scikit-learn) (1.0.1)\n",
            "Requirement already satisfied, skipping upgrade: scipy>=0.19.1 in /usr/local/lib/python3.7/dist-packages (from scikit-learn) (1.4.1)\n",
            "Installing collected packages: threadpoolctl, scikit-learn\n",
            "  Found existing installation: scikit-learn 0.22.2.post1\n",
            "    Uninstalling scikit-learn-0.22.2.post1:\n",
            "      Successfully uninstalled scikit-learn-0.22.2.post1\n",
            "Successfully installed scikit-learn-0.24.2 threadpoolctl-2.1.0\n"
          ],
          "name": "stdout"
        },
        {
          "output_type": "display_data",
          "data": {
            "application/vnd.colab-display-data+json": {
              "pip_warning": {
                "packages": [
                  "sklearn"
                ]
              }
            }
          },
          "metadata": {
            "tags": []
          }
        }
      ]
    },
    {
      "cell_type": "code",
      "metadata": {
        "id": "opposite-burns"
      },
      "source": [
        "Data = pd.read_csv(\"Skyserver_12_15_2020 3 45 07 AM.csv\",comment=\"#\")"
      ],
      "id": "opposite-burns",
      "execution_count": 99,
      "outputs": []
    },
    {
      "cell_type": "code",
      "metadata": {
        "colab": {
          "base_uri": "https://localhost:8080/",
          "height": 226
        },
        "id": "zjKMQX2Pm4Tz",
        "outputId": "70238252-c3df-43ee-f302-f3387a12d735"
      },
      "source": [
        "Data.head()"
      ],
      "id": "zjKMQX2Pm4Tz",
      "execution_count": 100,
      "outputs": [
        {
          "output_type": "execute_result",
          "data": {
            "text/html": [
              "<div>\n",
              "<style scoped>\n",
              "    .dataframe tbody tr th:only-of-type {\n",
              "        vertical-align: middle;\n",
              "    }\n",
              "\n",
              "    .dataframe tbody tr th {\n",
              "        vertical-align: top;\n",
              "    }\n",
              "\n",
              "    .dataframe thead th {\n",
              "        text-align: right;\n",
              "    }\n",
              "</style>\n",
              "<table border=\"1\" class=\"dataframe\">\n",
              "  <thead>\n",
              "    <tr style=\"text-align: right;\">\n",
              "      <th></th>\n",
              "      <th>objid</th>\n",
              "      <th>ra</th>\n",
              "      <th>dec</th>\n",
              "      <th>u</th>\n",
              "      <th>g</th>\n",
              "      <th>r</th>\n",
              "      <th>i</th>\n",
              "      <th>z</th>\n",
              "      <th>run</th>\n",
              "      <th>rerun</th>\n",
              "      <th>camcol</th>\n",
              "      <th>field</th>\n",
              "      <th>specobjid</th>\n",
              "      <th>class</th>\n",
              "      <th>redshift</th>\n",
              "      <th>plate</th>\n",
              "      <th>mjd</th>\n",
              "      <th>fiberid</th>\n",
              "    </tr>\n",
              "  </thead>\n",
              "  <tbody>\n",
              "    <tr>\n",
              "      <th>0</th>\n",
              "      <td>1237678877245244171</td>\n",
              "      <td>318.951692</td>\n",
              "      <td>9.315146</td>\n",
              "      <td>19.51665</td>\n",
              "      <td>18.50036</td>\n",
              "      <td>17.95667</td>\n",
              "      <td>17.53139</td>\n",
              "      <td>17.32035</td>\n",
              "      <td>7777</td>\n",
              "      <td>301</td>\n",
              "      <td>5</td>\n",
              "      <td>53</td>\n",
              "      <td>819657923239110656</td>\n",
              "      <td>GALAXY</td>\n",
              "      <td>0.114299</td>\n",
              "      <td>728</td>\n",
              "      <td>52520</td>\n",
              "      <td>10</td>\n",
              "    </tr>\n",
              "    <tr>\n",
              "      <th>1</th>\n",
              "      <td>1237668332026986542</td>\n",
              "      <td>217.940001</td>\n",
              "      <td>14.608378</td>\n",
              "      <td>19.13548</td>\n",
              "      <td>18.55482</td>\n",
              "      <td>17.95603</td>\n",
              "      <td>17.68272</td>\n",
              "      <td>17.63717</td>\n",
              "      <td>5322</td>\n",
              "      <td>301</td>\n",
              "      <td>3</td>\n",
              "      <td>56</td>\n",
              "      <td>6154252554903769088</td>\n",
              "      <td>QSO</td>\n",
              "      <td>1.802680</td>\n",
              "      <td>5466</td>\n",
              "      <td>56033</td>\n",
              "      <td>304</td>\n",
              "    </tr>\n",
              "    <tr>\n",
              "      <th>2</th>\n",
              "      <td>1237664092899115053</td>\n",
              "      <td>129.948221</td>\n",
              "      <td>25.213328</td>\n",
              "      <td>19.54955</td>\n",
              "      <td>18.19434</td>\n",
              "      <td>17.83220</td>\n",
              "      <td>17.51329</td>\n",
              "      <td>17.47054</td>\n",
              "      <td>4335</td>\n",
              "      <td>301</td>\n",
              "      <td>3</td>\n",
              "      <td>130</td>\n",
              "      <td>2173034979993348096</td>\n",
              "      <td>GALAXY</td>\n",
              "      <td>0.070813</td>\n",
              "      <td>1930</td>\n",
              "      <td>53347</td>\n",
              "      <td>175</td>\n",
              "    </tr>\n",
              "    <tr>\n",
              "      <th>3</th>\n",
              "      <td>1237654604252119048</td>\n",
              "      <td>160.357788</td>\n",
              "      <td>3.567886</td>\n",
              "      <td>17.72343</td>\n",
              "      <td>16.65830</td>\n",
              "      <td>16.23667</td>\n",
              "      <td>16.07098</td>\n",
              "      <td>16.02797</td>\n",
              "      <td>2126</td>\n",
              "      <td>301</td>\n",
              "      <td>1</td>\n",
              "      <td>275</td>\n",
              "      <td>649647859372681216</td>\n",
              "      <td>STAR</td>\n",
              "      <td>0.000570</td>\n",
              "      <td>577</td>\n",
              "      <td>52367</td>\n",
              "      <td>13</td>\n",
              "    </tr>\n",
              "    <tr>\n",
              "      <th>4</th>\n",
              "      <td>1237661360769400880</td>\n",
              "      <td>226.001700</td>\n",
              "      <td>38.619699</td>\n",
              "      <td>16.60500</td>\n",
              "      <td>15.66234</td>\n",
              "      <td>15.39406</td>\n",
              "      <td>15.29443</td>\n",
              "      <td>15.29302</td>\n",
              "      <td>3699</td>\n",
              "      <td>301</td>\n",
              "      <td>2</td>\n",
              "      <td>227</td>\n",
              "      <td>5817649714997514240</td>\n",
              "      <td>STAR</td>\n",
              "      <td>-0.000184</td>\n",
              "      <td>5167</td>\n",
              "      <td>56066</td>\n",
              "      <td>454</td>\n",
              "    </tr>\n",
              "  </tbody>\n",
              "</table>\n",
              "</div>"
            ],
            "text/plain": [
              "                 objid          ra        dec  ...  plate    mjd  fiberid\n",
              "0  1237678877245244171  318.951692   9.315146  ...    728  52520       10\n",
              "1  1237668332026986542  217.940001  14.608378  ...   5466  56033      304\n",
              "2  1237664092899115053  129.948221  25.213328  ...   1930  53347      175\n",
              "3  1237654604252119048  160.357788   3.567886  ...    577  52367       13\n",
              "4  1237661360769400880  226.001700  38.619699  ...   5167  56066      454\n",
              "\n",
              "[5 rows x 18 columns]"
            ]
          },
          "metadata": {
            "tags": []
          },
          "execution_count": 100
        }
      ]
    },
    {
      "cell_type": "code",
      "metadata": {
        "id": "TvMoDPJGRZlB"
      },
      "source": [
        "#First, replace with nan\n",
        "Data = Data.replace(-9999.0,np.nan)\n",
        "Data.dropna(inplace=True)"
      ],
      "id": "TvMoDPJGRZlB",
      "execution_count": 101,
      "outputs": []
    },
    {
      "cell_type": "markdown",
      "metadata": {
        "id": "CtN9bqJXkD2M"
      },
      "source": [
        "# Step 2: Convert magnitudes to color.\n",
        "\n",
        "This step is to ensure \"flux\" due to distance is removed, and relative intensities between different bands is taken."
      ],
      "id": "CtN9bqJXkD2M"
    },
    {
      "cell_type": "code",
      "metadata": {
        "id": "light-haiti"
      },
      "source": [
        "df = Data[['class','redshift']]\n",
        "df['u_g'] = Data['u']-Data['g']\n",
        "df['g_r'] = Data['g']-Data['r']\n",
        "df['r_i'] = Data['r']-Data['i']\n",
        "df['i_z'] = Data['i']-Data['z']\n",
        "\n",
        "df = df.loc[df['class']=='QSO']"
      ],
      "id": "light-haiti",
      "execution_count": 102,
      "outputs": []
    },
    {
      "cell_type": "code",
      "metadata": {
        "colab": {
          "base_uri": "https://localhost:8080/",
          "height": 206
        },
        "id": "Eb-14mAmR22s",
        "outputId": "843523a1-4a19-40d9-80ea-34eb9a20aae9"
      },
      "source": [
        "df.head()"
      ],
      "id": "Eb-14mAmR22s",
      "execution_count": 103,
      "outputs": [
        {
          "output_type": "execute_result",
          "data": {
            "text/html": [
              "<div>\n",
              "<style scoped>\n",
              "    .dataframe tbody tr th:only-of-type {\n",
              "        vertical-align: middle;\n",
              "    }\n",
              "\n",
              "    .dataframe tbody tr th {\n",
              "        vertical-align: top;\n",
              "    }\n",
              "\n",
              "    .dataframe thead th {\n",
              "        text-align: right;\n",
              "    }\n",
              "</style>\n",
              "<table border=\"1\" class=\"dataframe\">\n",
              "  <thead>\n",
              "    <tr style=\"text-align: right;\">\n",
              "      <th></th>\n",
              "      <th>class</th>\n",
              "      <th>redshift</th>\n",
              "      <th>u_g</th>\n",
              "      <th>g_r</th>\n",
              "      <th>r_i</th>\n",
              "      <th>i_z</th>\n",
              "    </tr>\n",
              "  </thead>\n",
              "  <tbody>\n",
              "    <tr>\n",
              "      <th>1</th>\n",
              "      <td>QSO</td>\n",
              "      <td>1.802680</td>\n",
              "      <td>0.58066</td>\n",
              "      <td>0.59879</td>\n",
              "      <td>0.27331</td>\n",
              "      <td>0.04555</td>\n",
              "    </tr>\n",
              "    <tr>\n",
              "      <th>8</th>\n",
              "      <td>QSO</td>\n",
              "      <td>0.754256</td>\n",
              "      <td>0.20686</td>\n",
              "      <td>0.09017</td>\n",
              "      <td>0.12023</td>\n",
              "      <td>0.06721</td>\n",
              "    </tr>\n",
              "    <tr>\n",
              "      <th>28</th>\n",
              "      <td>QSO</td>\n",
              "      <td>1.681824</td>\n",
              "      <td>0.13062</td>\n",
              "      <td>0.00068</td>\n",
              "      <td>0.20351</td>\n",
              "      <td>0.02154</td>\n",
              "    </tr>\n",
              "    <tr>\n",
              "      <th>55</th>\n",
              "      <td>QSO</td>\n",
              "      <td>0.506626</td>\n",
              "      <td>0.23220</td>\n",
              "      <td>0.04590</td>\n",
              "      <td>0.14832</td>\n",
              "      <td>0.03768</td>\n",
              "    </tr>\n",
              "    <tr>\n",
              "      <th>57</th>\n",
              "      <td>QSO</td>\n",
              "      <td>0.395499</td>\n",
              "      <td>0.24153</td>\n",
              "      <td>0.55923</td>\n",
              "      <td>0.44332</td>\n",
              "      <td>0.50756</td>\n",
              "    </tr>\n",
              "  </tbody>\n",
              "</table>\n",
              "</div>"
            ],
            "text/plain": [
              "   class  redshift      u_g      g_r      r_i      i_z\n",
              "1    QSO  1.802680  0.58066  0.59879  0.27331  0.04555\n",
              "8    QSO  0.754256  0.20686  0.09017  0.12023  0.06721\n",
              "28   QSO  1.681824  0.13062  0.00068  0.20351  0.02154\n",
              "55   QSO  0.506626  0.23220  0.04590  0.14832  0.03768\n",
              "57   QSO  0.395499  0.24153  0.55923  0.44332  0.50756"
            ]
          },
          "metadata": {
            "tags": []
          },
          "execution_count": 103
        }
      ]
    },
    {
      "cell_type": "code",
      "metadata": {
        "id": "alleged-closer"
      },
      "source": [
        "df = df.drop('class',axis=1)"
      ],
      "id": "alleged-closer",
      "execution_count": 104,
      "outputs": []
    },
    {
      "cell_type": "code",
      "metadata": {
        "colab": {
          "base_uri": "https://localhost:8080/"
        },
        "id": "z_5RDAImRsPH",
        "outputId": "9cecf609-5f6b-4fa1-eaeb-ffcafca5bb5c"
      },
      "source": [
        "df.columns"
      ],
      "id": "z_5RDAImRsPH",
      "execution_count": 105,
      "outputs": [
        {
          "output_type": "execute_result",
          "data": {
            "text/plain": [
              "Index(['redshift', 'u_g', 'g_r', 'r_i', 'i_z'], dtype='object')"
            ]
          },
          "metadata": {
            "tags": []
          },
          "execution_count": 105
        }
      ]
    },
    {
      "cell_type": "code",
      "metadata": {
        "id": "paperback-knife"
      },
      "source": [
        "from sklearn.preprocessing import StandardScaler"
      ],
      "id": "paperback-knife",
      "execution_count": 106,
      "outputs": []
    },
    {
      "cell_type": "code",
      "metadata": {
        "colab": {
          "base_uri": "https://localhost:8080/"
        },
        "id": "AiZPLIeTm9YP",
        "outputId": "5f9e62e0-7039-44ed-8c01-8d8c0633a811"
      },
      "source": [
        "input_raw = df[['u_g','g_r','r_i','i_z']].values\n",
        "output_raw = df['redshift'].values\n",
        "print(input_raw.shape,output_raw.shape)"
      ],
      "id": "AiZPLIeTm9YP",
      "execution_count": 107,
      "outputs": [
        {
          "output_type": "stream",
          "text": [
            "(54536, 4) (54536,)\n"
          ],
          "name": "stdout"
        }
      ]
    },
    {
      "cell_type": "code",
      "metadata": {
        "id": "22BaAMGNSapI"
      },
      "source": [
        "output_raw = output_raw.reshape([-1,1])"
      ],
      "id": "22BaAMGNSapI",
      "execution_count": 108,
      "outputs": []
    },
    {
      "cell_type": "code",
      "metadata": {
        "colab": {
          "base_uri": "https://localhost:8080/",
          "height": 563
        },
        "id": "aqOtINlUm_AV",
        "outputId": "788b2cf2-2057-4988-c708-cfb0da3126d0"
      },
      "source": [
        "_ = plt.hist(output_raw[:,0],30)\n",
        "plt.xlabel(\"redshift\")\n",
        "plt.ylabel(\"Counts\")\n",
        "plt.figure()\n",
        "_ = plt.hist(input_raw[:,0],30)\n",
        "plt.xlabel(\"U-G\")\n",
        "plt.ylabel(\"Counts\")"
      ],
      "id": "aqOtINlUm_AV",
      "execution_count": 109,
      "outputs": [
        {
          "output_type": "execute_result",
          "data": {
            "text/plain": [
              "Text(0, 0.5, 'Counts')"
            ]
          },
          "metadata": {
            "tags": []
          },
          "execution_count": 109
        },
        {
          "output_type": "display_data",
          "data": {
            "image/png": "[encoded data removed]",
            "text/plain": [
              "<Figure size 432x288 with 1 Axes>"
            ]
          },
          "metadata": {
            "tags": [],
            "needs_background": "light"
          }
        },
        {
          "output_type": "display_data",
          "data": {
            "image/png": "[encoded data removed]",
            "text/plain": [
              "<Figure size 432x288 with 1 Axes>"
            ]
          },
          "metadata": {
            "tags": [],
            "needs_background": "light"
          }
        }
      ]
    },
    {
      "cell_type": "code",
      "metadata": {
        "id": "criminal-monitor"
      },
      "source": [
        "scalerx = StandardScaler()\n",
        "scalery = StandardScaler()\n",
        "\n",
        "input_mod = scalerx.fit_transform(input_raw)\n",
        "output_mod = scalery.fit_transform(output_raw)"
      ],
      "id": "criminal-monitor",
      "execution_count": 110,
      "outputs": []
    },
    {
      "cell_type": "markdown",
      "metadata": {
        "id": "studied-eleven"
      },
      "source": [
        "### Train-test split"
      ],
      "id": "studied-eleven"
    },
    {
      "cell_type": "code",
      "metadata": {
        "colab": {
          "base_uri": "https://localhost:8080/"
        },
        "id": "aware-paintball",
        "outputId": "7c05e362-9832-4a4b-d7e3-854b95dbc669"
      },
      "source": [
        "idx = np.arange(input_mod.shape[0])\n",
        "\n",
        "#----------- Shuffle the indices\n",
        "np.random.seed(2796)\n",
        "np.random.shuffle(idx)\n",
        "idx = list(idx)\n",
        "#-----------------\n",
        "trainlocs = idx[:int(len(idx) * 0.85)]\n",
        "xtrain = input_mod[trainlocs,:]\n",
        "ytrain = output_mod[trainlocs]\n",
        "print(xtrain.shape,ytrain.shape)\n",
        "\n",
        "#------------------\n",
        "testlocs = idx[int(len(idx) * 0.85):]\n",
        "xtest = input_mod[testlocs]\n",
        "ytest = output_mod[testlocs]\n",
        "print(xtest.shape,ytest.shape)"
      ],
      "id": "aware-paintball",
      "execution_count": 111,
      "outputs": [
        {
          "output_type": "stream",
          "text": [
            "(46355, 4) (46355, 1)\n",
            "(8181, 4) (8181, 1)\n"
          ],
          "name": "stdout"
        }
      ]
    },
    {
      "cell_type": "code",
      "metadata": {
        "id": "4PJ9h4WVtYLc"
      },
      "source": [
        "ytrain_og = scalery.inverse_transform(ytrain)\n",
        "ytest_og = scalery.inverse_transform(ytest)"
      ],
      "id": "4PJ9h4WVtYLc",
      "execution_count": 112,
      "outputs": []
    },
    {
      "cell_type": "code",
      "metadata": {
        "id": "blank-february"
      },
      "source": [
        "from sklearn.metrics import mean_absolute_percentage_error,r2_score,mean_squared_error\n",
        "def Performance(target,prediction):\n",
        "    print(f\"Mean square error: {mean_squared_error(target,prediction)}\")\n",
        "    print(f\"Mean absolute percentage error: {mean_absolute_percentage_error(target,prediction)}\")\n",
        "    print(f\"R2 score: {r2_score(target,prediction)}\")"
      ],
      "id": "blank-february",
      "execution_count": 113,
      "outputs": []
    },
    {
      "cell_type": "code",
      "metadata": {
        "id": "tVQfSS03sg4P"
      },
      "source": [
        "def Make_scatter_plot(target,prediction):\n",
        "    plt.figure()\n",
        "    plt.scatter(target,prediction,s=2.0)\n",
        "    plt.xlabel(\"Targets\")\n",
        "    plt.ylabel(\"predictions\")"
      ],
      "id": "tVQfSS03sg4P",
      "execution_count": 114,
      "outputs": []
    },
    {
      "cell_type": "markdown",
      "metadata": {
        "id": "retained-fifth"
      },
      "source": [
        "# First up, let us check how Linear regression works out\n",
        "\n",
        "We will use $\\color{#d08c60}{Scikit-learn}$ to perform linear regression. This assumes the form of our predictor as: \n",
        "\n",
        "$$z_{pred,j} = W_{ij}m_{i} + b_j,$$ where $m_{i}$ are the individual colors for each sample, and $j$ corresponds to each sample.\n",
        "\n"
      ],
      "id": "retained-fifth"
    },
    {
      "cell_type": "code",
      "metadata": {
        "id": "enhanced-devon"
      },
      "source": [
        "from sklearn.linear_model import LinearRegression"
      ],
      "id": "enhanced-devon",
      "execution_count": 115,
      "outputs": []
    },
    {
      "cell_type": "code",
      "metadata": {
        "colab": {
          "base_uri": "https://localhost:8080/"
        },
        "id": "horizontal-lesbian",
        "outputId": "5b4eb7cc-b1fa-4986-e260-5543d3e33288"
      },
      "source": [
        "LinReg = LinearRegression()\n",
        "LinReg.fit(xtrain,ytrain)"
      ],
      "id": "horizontal-lesbian",
      "execution_count": 116,
      "outputs": [
        {
          "output_type": "execute_result",
          "data": {
            "text/plain": [
              "LinearRegression()"
            ]
          },
          "metadata": {
            "tags": []
          },
          "execution_count": 116
        }
      ]
    },
    {
      "cell_type": "code",
      "metadata": {
        "id": "jKeX__vrQzMt"
      },
      "source": [
        "ytrain_pred = LinReg.predict(xtrain)\n",
        "ytest_pred = LinReg.predict(xtest)"
      ],
      "id": "jKeX__vrQzMt",
      "execution_count": 117,
      "outputs": []
    },
    {
      "cell_type": "code",
      "metadata": {
        "id": "german-circus"
      },
      "source": [
        "ytrain_pred = scalery.inverse_transform(ytrain_pred)\n",
        "ytest_pred = scalery.inverse_transform(ytest_pred)"
      ],
      "id": "german-circus",
      "execution_count": 118,
      "outputs": []
    },
    {
      "cell_type": "code",
      "metadata": {
        "colab": {
          "base_uri": "https://localhost:8080/"
        },
        "id": "DYnV-IBetOv8",
        "outputId": "12c8f51d-7cd9-40dc-c19b-453beed89690"
      },
      "source": [
        "print(\"Training set statistics\")\n",
        "Performance(ytrain_og,ytrain_pred)"
      ],
      "id": "DYnV-IBetOv8",
      "execution_count": 119,
      "outputs": [
        {
          "output_type": "stream",
          "text": [
            "Training set statistics\n",
            "Mean square error: 0.4341474455449827\n",
            "Mean absolute percentage error: 1.6382026041507045\n",
            "R2 score: 0.11960032422078937\n"
          ],
          "name": "stdout"
        }
      ]
    },
    {
      "cell_type": "code",
      "metadata": {
        "colab": {
          "base_uri": "https://localhost:8080/"
        },
        "id": "x66DU_KXt2wf",
        "outputId": "e053ac49-3aaa-4f22-919a-4379c439c60b"
      },
      "source": [
        "print(\"Testing set statistics\")\n",
        "Performance(ytest_og,ytest_pred)"
      ],
      "id": "x66DU_KXt2wf",
      "execution_count": 120,
      "outputs": [
        {
          "output_type": "stream",
          "text": [
            "Testing set statistics\n",
            "Mean square error: 0.4130444409033818\n",
            "Mean absolute percentage error: 2.8755175537844018\n",
            "R2 score: 0.138727060676193\n"
          ],
          "name": "stdout"
        }
      ]
    },
    {
      "cell_type": "code",
      "metadata": {
        "colab": {
          "base_uri": "https://localhost:8080/",
          "height": 544
        },
        "id": "occasional-primary",
        "outputId": "408b48d9-e5c5-4113-d50f-85ca3b6227f6"
      },
      "source": [
        "Make_scatter_plot(ytrain_og,ytrain_pred)\n",
        "Make_scatter_plot(ytest_og,ytest_pred)"
      ],
      "id": "occasional-primary",
      "execution_count": 121,
      "outputs": [
        {
          "output_type": "display_data",
          "data": {
            "image/png": "[encoded data removed]",
            "text/plain": [
              "<Figure size 432x288 with 1 Axes>"
            ]
          },
          "metadata": {
            "tags": [],
            "needs_background": "light"
          }
        },
        {
          "output_type": "display_data",
          "data": {
            "image/png": "[encoded data removed]",
            "text/plain": [
              "<Figure size 432x288 with 1 Axes>"
            ]
          },
          "metadata": {
            "tags": [],
            "needs_background": "light"
          }
        }
      ]
    },
    {
      "cell_type": "markdown",
      "metadata": {
        "id": "qo4Xz6_LyLw_"
      },
      "source": [
        "That is fine performance for a linear model. But it could be better, so let's code up a neural network and check performance."
      ],
      "id": "qo4Xz6_LyLw_"
    },
    {
      "cell_type": "markdown",
      "metadata": {
        "id": "3kP_jYOizoIU"
      },
      "source": [
        "# Neural network\n",
        "\n",
        "We shall use $\\color{#dc2f02}{Pytorch}$ to make our neural network. You can use tensorflow or keras or whatever package you like -- pytorch is in vogue now, so we go ahead with it. "
      ],
      "id": "3kP_jYOizoIU"
    },
    {
      "cell_type": "markdown",
      "metadata": {
        "id": "ywj6_ClG2YCZ"
      },
      "source": [
        "## Pytorch structure\n",
        "\n",
        "![pytorch.png](data:image/png;base64,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)"
      ],
      "id": "ywj6_ClG2YCZ"
    },
    {
      "cell_type": "markdown",
      "metadata": {
        "id": "0MVbjMgkKKM7"
      },
      "source": [
        "So basically, we need to write a small:\n",
        "1. Data class, which will give us input and output for a given sample.\n",
        "2. A model class which will define our network and generate output for a given input.\n",
        "3. A *for* loop which will iterate over data and train the network."
      ],
      "id": "0MVbjMgkKKM7"
    },
    {
      "cell_type": "code",
      "metadata": {
        "id": "gGFsajnbyV8z"
      },
      "source": [
        "import torch\n",
        "import torch.nn as nn\n",
        "from torch.utils import data"
      ],
      "id": "gGFsajnbyV8z",
      "execution_count": 181,
      "outputs": []
    },
    {
      "cell_type": "code",
      "metadata": {
        "id": "nT9H6YmlMu7T"
      },
      "source": [
        "def _float(tensor):\n",
        "    return torch.Tensor(tensor.astype(np.float32)).float()"
      ],
      "id": "nT9H6YmlMu7T",
      "execution_count": 182,
      "outputs": []
    },
    {
      "cell_type": "code",
      "metadata": {
        "id": "vNkmTz-LLCJK"
      },
      "source": [
        "class ReDNN(nn.Module):\n",
        "    def __init__(self,nin,nout):\n",
        "        super(ReDNN,self).__init__()\n",
        "        self.NN = nn.Sequential(\n",
        "                    nn.Linear(nin,12),\n",
        "                    nn.ELU(inplace=True),\n",
        "                    nn.Linear(12,26),\n",
        "                    nn.ELU(inplace=True),\n",
        "                    nn.Linear(26,14),\n",
        "                    nn.ELU(inplace=True),\n",
        "                    nn.Linear(14,7),\n",
        "                    nn.ELU(inplace=True),\n",
        "                    nn.Linear(7,nout)\n",
        "        )\n",
        "    def forward(self,input_data):\n",
        "        return self.NN(input_data)"
      ],
      "id": "vNkmTz-LLCJK",
      "execution_count": 184,
      "outputs": []
    },
    {
      "cell_type": "code",
      "metadata": {
        "id": "W2ZH4jBfOBKD"
      },
      "source": [
        "def MSE(true, pred):\n",
        "    return ((true - pred)**2).mean().detach().cpu().numpy()\n",
        "\n",
        "def Wrap_performance(true,pred):\n",
        "    return Performance(true.detach().cpu().numpy(),pred.detach().cpu().numpy())\n",
        "\n",
        "def loss_fn(true,pred):\n",
        "    return ((true - pred)**2).mean()\n"
      ],
      "id": "W2ZH4jBfOBKD",
      "execution_count": 185,
      "outputs": []
    },
    {
      "cell_type": "code",
      "metadata": {
        "colab": {
          "base_uri": "https://localhost:8080/"
        },
        "id": "N6hNLJaxUxAW",
        "outputId": "0b432720-de77-4c7e-a267-206932ac0624"
      },
      "source": [
        "torch.manual_seed(0)"
      ],
      "id": "N6hNLJaxUxAW",
      "execution_count": 186,
      "outputs": [
        {
          "output_type": "execute_result",
          "data": {
            "text/plain": [
              "<torch._C.Generator at 0x7fea35b59250>"
            ]
          },
          "metadata": {
            "tags": []
          },
          "execution_count": 186
        }
      ]
    },
    {
      "cell_type": "code",
      "metadata": {
        "colab": {
          "base_uri": "https://localhost:8080/"
        },
        "id": "AQ9OGk0vNj3T",
        "outputId": "1aaa61c7-2a96-4bc4-c873-e9148aad5e6a"
      },
      "source": [
        "device = torch.device(\"cuda\" if torch.cuda.is_available() else \"cpu\")\n",
        "print(device)"
      ],
      "id": "AQ9OGk0vNj3T",
      "execution_count": 187,
      "outputs": [
        {
          "output_type": "stream",
          "text": [
            "cuda\n"
          ],
          "name": "stdout"
        }
      ]
    },
    {
      "cell_type": "code",
      "metadata": {
        "id": "DuzyIDXvKpQh"
      },
      "source": [
        "class Data(data.Dataset):\n",
        "    def __init__(self,features,target):\n",
        "        self.features = _float(features).to(device)\n",
        "        self.target = _float(target).to(device)\n",
        "        self.nout = target.shape[-1]\n",
        "        self.nin = features.shape[-1]\n",
        "    def __len__(self):\n",
        "        return self.features.shape[0]\n",
        "    def __getitem__(self,index):\n",
        "        return self.features[index],self.target[index]"
      ],
      "id": "DuzyIDXvKpQh",
      "execution_count": 188,
      "outputs": []
    },
    {
      "cell_type": "code",
      "metadata": {
        "id": "2_qFr1hwMhRg"
      },
      "source": [
        "batch_size = 50000\n",
        "lr = 1e-4\n",
        "num_epochs = 10000"
      ],
      "id": "2_qFr1hwMhRg",
      "execution_count": 189,
      "outputs": []
    },
    {
      "cell_type": "code",
      "metadata": {
        "id": "T8vgYawcKpTK"
      },
      "source": [
        "train_set = Data(xtrain,ytrain)\n",
        "test_set = Data(xtest,ytest)\n",
        "\n",
        "training_loader = data.DataLoader(train_set,batch_size=batch_size,shuffle=True)\n",
        "test_loader = data.DataLoader(test_set,batch_size=test_set.features.shape[0],shuffle=True)"
      ],
      "id": "T8vgYawcKpTK",
      "execution_count": 190,
      "outputs": []
    },
    {
      "cell_type": "code",
      "metadata": {
        "colab": {
          "base_uri": "https://localhost:8080/"
        },
        "id": "t5sPJJeXKpWn",
        "outputId": "a8ab1cf5-d965-4525-8a80-1e1097e953c9"
      },
      "source": [
        "#This defines our model\n",
        "Redshift_model = ReDNN(train_set.nin,train_set.nout)\n",
        "Redshift_model = Redshift_model.to(device).float()\n",
        "print(Redshift_model)"
      ],
      "id": "t5sPJJeXKpWn",
      "execution_count": 191,
      "outputs": [
        {
          "output_type": "stream",
          "text": [
            "ReDNN(\n",
            "  (NN): Sequential(\n",
            "    (0): Linear(in_features=4, out_features=12, bias=True)\n",
            "    (1): ELU(alpha=1.0, inplace=True)\n",
            "    (2): Linear(in_features=12, out_features=26, bias=True)\n",
            "    (3): ELU(alpha=1.0, inplace=True)\n",
            "    (4): Linear(in_features=26, out_features=14, bias=True)\n",
            "    (5): ELU(alpha=1.0, inplace=True)\n",
            "    (6): Linear(in_features=14, out_features=7, bias=True)\n",
            "    (7): ELU(alpha=1.0, inplace=True)\n",
            "    (8): Linear(in_features=7, out_features=1, bias=True)\n",
            "  )\n",
            ")\n"
          ],
          "name": "stdout"
        }
      ]
    },
    {
      "cell_type": "code",
      "metadata": {
        "id": "LaYoUvJrNK9i"
      },
      "source": [
        "optimizer = torch.optim.Adam(Redshift_model.parameters(),lr=lr)"
      ],
      "id": "LaYoUvJrNK9i",
      "execution_count": 192,
      "outputs": []
    },
    {
      "cell_type": "code",
      "metadata": {
        "colab": {
          "base_uri": "https://localhost:8080/"
        },
        "id": "4vtOj1vMv10f",
        "outputId": "96935690-0818-43fc-9d11-b25a11c500f9"
      },
      "source": [
        "!nvidia-smi"
      ],
      "id": "4vtOj1vMv10f",
      "execution_count": 193,
      "outputs": [
        {
          "output_type": "stream",
          "text": [
            "Sun May 30 11:54:48 2021       \n",
            "+-----------------------------------------------------------------------------+\n",
            "| NVIDIA-SMI 465.19.01    Driver Version: 460.32.03    CUDA Version: 11.2     |\n",
            "|-------------------------------+----------------------+----------------------+\n",
            "| GPU  Name        Persistence-M| Bus-Id        Disp.A | Volatile Uncorr. ECC |\n",
            "| Fan  Temp  Perf  Pwr:Usage/Cap|         Memory-Usage | GPU-Util  Compute M. |\n",
            "|                               |                      |               MIG M. |\n",
            "|===============================+======================+======================|\n",
            "|   0  Tesla T4            Off  | 00000000:00:04.0 Off |                    0 |\n",
            "| N/A   66C    P0    29W /  70W |   1134MiB / 15109MiB |      0%      Default |\n",
            "|                               |                      |                  N/A |\n",
            "+-------------------------------+----------------------+----------------------+\n",
            "                                                                               \n",
            "+-----------------------------------------------------------------------------+\n",
            "| Processes:                                                                  |\n",
            "|  GPU   GI   CI        PID   Type   Process name                  GPU Memory |\n",
            "|        ID   ID                                                   Usage      |\n",
            "|=============================================================================|\n",
            "+-----------------------------------------------------------------------------+\n"
          ],
          "name": "stdout"
        }
      ]
    },
    {
      "cell_type": "code",
      "metadata": {
        "id": "on8hPDaDTgkd"
      },
      "source": [
        "from tqdm.notebook import tqdm"
      ],
      "id": "on8hPDaDTgkd",
      "execution_count": 194,
      "outputs": []
    },
    {
      "cell_type": "code",
      "metadata": {
        "colab": {
          "base_uri": "https://localhost:8080/",
          "height": 1000,
          "referenced_widgets": [
            "9092a442ad134983a535162da5b0124c",
            "1d4d7594c55147c68ca6864d1317ff42",
            "3e9e5e351dcb45ed921afc869cd0485c",
            "d433f8da496f45a783590ec7192175dd",
            "a91c89ded19f423f8f8c7639ccefefe7",
            "c4e7580c399048238a86e585cd600547",
            "88ed6344c98947caaa0c28823e813cc0",
            "c2780d3acb284d7297f627a7f9db967f"
          ]
        },
        "id": "wu6CFlPdNLGR",
        "outputId": "a726b44e-6194-4423-a7b1-0bf4d328609e"
      },
      "source": [
        "training_stats = []\n",
        "testing_stats = []\n",
        "for i in tqdm(np.arange(num_epochs)):\n",
        "    mse_loss = []\n",
        "    for features,target in training_loader:\n",
        "        optimizer.zero_grad()\n",
        "\n",
        "        # features = features.to(device)\n",
        "        # target = target.to(device)\n",
        "\n",
        "        predictions = Redshift_model(features)\n",
        "\n",
        "        loss = loss_fn(target, predictions)\n",
        "        \n",
        "        loss.backward()\n",
        "        optimizer.step()\n",
        "\n",
        "        mse_loss.append(loss.detach().cpu().numpy())\n",
        "    training_stats.append(np.mean(mse_loss))\n",
        "    with torch.no_grad():\n",
        "        mse_loss = []\n",
        "        for features,target in test_loader:\n",
        "            # features = features.to(device)\n",
        "            # target = target.to(device)\n",
        "\n",
        "            predictions = Redshift_model(features)\n",
        "\n",
        "            loss = loss_fn(target, predictions)\n",
        "            mse_loss.append(loss.detach().cpu().numpy())\n",
        "        \n",
        "        testing_stats.append(np.mean(mse_loss))\n",
        "    if i%100==0:\n",
        "        print(f\"Training loss: {training_stats[-1]}\")\n",
        "        print(f\"Testing loss: {testing_stats[-1]}\")"
      ],
      "id": "wu6CFlPdNLGR",
      "execution_count": null,
      "outputs": [
        {
          "output_type": "display_data",
          "data": {
            "application/vnd.jupyter.widget-view+json": {
              "model_id": "9092a442ad134983a535162da5b0124c",
              "version_major": 2,
              "version_minor": 0
            },
            "text/plain": [
              "HBox(children=(FloatProgress(value=0.0, max=10000.0), HTML(value='')))"
            ]
          },
          "metadata": {
            "tags": []
          }
        },
        {
          "output_type": "stream",
          "text": [
            "Training loss: 1.0429177284240723\n",
            "Testing loss: 1.017622947692871\n",
            "Training loss: 0.9800375699996948\n",
            "Testing loss: 0.953595757484436\n",
            "Training loss: 0.9351933598518372\n",
            "Testing loss: 0.9074019193649292\n",
            "Training loss: 0.9020458459854126\n",
            "Testing loss: 0.8722965121269226\n",
            "Training loss: 0.8772657513618469\n",
            "Testing loss: 0.8444474339485168\n",
            "Training loss: 0.8568972945213318\n",
            "Testing loss: 0.8202834725379944\n",
            "Training loss: 0.83929443359375\n",
            "Testing loss: 0.7991896271705627\n",
            "Training loss: 0.8225548267364502\n",
            "Testing loss: 0.7801582217216492\n",
            "Training loss: 0.8042221665382385\n",
            "Testing loss: 0.76068115234375\n",
            "Training loss: 0.7829976677894592\n",
            "Testing loss: 0.7387610673904419\n",
            "Training loss: 0.7582754492759705\n",
            "Testing loss: 0.7133752703666687\n",
            "Training loss: 0.7299150228500366\n",
            "Testing loss: 0.6843926906585693\n",
            "Training loss: 0.6986045837402344\n",
            "Testing loss: 0.6523605585098267\n",
            "Training loss: 0.6661053895950317\n",
            "Testing loss: 0.6192055344581604\n",
            "Training loss: 0.6363502144813538\n",
            "Testing loss: 0.589107871055603\n",
            "Training loss: 0.6118106842041016\n",
            "Testing loss: 0.5647858381271362\n",
            "Training loss: 0.5925458073616028\n",
            "Testing loss: 0.5464659929275513\n",
            "Training loss: 0.577666699886322\n",
            "Testing loss: 0.5329899191856384\n",
            "Training loss: 0.5661821961402893\n",
            "Testing loss: 0.5228843688964844\n",
            "Training loss: 0.5568698644638062\n",
            "Testing loss: 0.5147908926010132\n",
            "Training loss: 0.5487304329872131\n",
            "Testing loss: 0.5077113509178162\n",
            "Training loss: 0.5412053465843201\n",
            "Testing loss: 0.5011568069458008\n",
            "Training loss: 0.5341331958770752\n",
            "Testing loss: 0.495023638010025\n",
            "Training loss: 0.5275476574897766\n",
            "Testing loss: 0.489378958940506\n",
            "Training loss: 0.5215356349945068\n",
            "Testing loss: 0.48430755734443665\n",
            "Training loss: 0.5161299109458923\n",
            "Testing loss: 0.47982099652290344\n",
            "Training loss: 0.5112828016281128\n",
            "Testing loss: 0.4758700430393219\n",
            "Training loss: 0.5068864822387695\n",
            "Testing loss: 0.47232648730278015\n",
            "Training loss: 0.5027952790260315\n",
            "Testing loss: 0.4690173268318176\n",
            "Training loss: 0.4988635778427124\n",
            "Testing loss: 0.4657895863056183\n",
            "Training loss: 0.4949631094932556\n",
            "Testing loss: 0.4625135362148285\n",
            "Training loss: 0.49100714921951294\n",
            "Testing loss: 0.4591122567653656\n",
            "Training loss: 0.4869306981563568\n",
            "Testing loss: 0.4555424749851227\n",
            "Training loss: 0.4826795160770416\n",
            "Testing loss: 0.45176610350608826\n",
            "Training loss: 0.4782184362411499\n",
            "Testing loss: 0.44777199625968933\n",
            "Training loss: 0.47353270649909973\n",
            "Testing loss: 0.44358423352241516\n",
            "Training loss: 0.4686392545700073\n",
            "Testing loss: 0.43925389647483826\n",
            "Training loss: 0.463603138923645\n",
            "Testing loss: 0.43485358357429504\n",
            "Training loss: 0.4585598409175873\n",
            "Testing loss: 0.4304935336112976\n",
            "Training loss: 0.45364612340927124\n",
            "Testing loss: 0.4262582063674927\n",
            "Training loss: 0.4489152729511261\n",
            "Testing loss: 0.4221712052822113\n",
            "Training loss: 0.4443659782409668\n",
            "Testing loss: 0.41821715235710144\n",
            "Training loss: 0.44000324606895447\n",
            "Testing loss: 0.41440248489379883\n",
            "Training loss: 0.4358569085597992\n",
            "Testing loss: 0.4107743203639984\n",
            "Training loss: 0.4319770336151123\n",
            "Testing loss: 0.4073801636695862\n",
            "Training loss: 0.42839667201042175\n",
            "Testing loss: 0.4042467474937439\n",
            "Training loss: 0.42511728405952454\n",
            "Testing loss: 0.4014029800891876\n",
            "Training loss: 0.42210832238197327\n",
            "Testing loss: 0.39884036779403687\n",
            "Training loss: 0.4193430542945862\n",
            "Testing loss: 0.3965134620666504\n",
            "Training loss: 0.4168035686016083\n",
            "Testing loss: 0.3943963050842285\n",
            "Training loss: 0.41446536779403687\n",
            "Testing loss: 0.3924597203731537\n",
            "Training loss: 0.4123017489910126\n",
            "Testing loss: 0.390688955783844\n"
          ],
          "name": "stdout"
        }
      ]
    },
    {
      "cell_type": "code",
      "metadata": {
        "id": "xIDIgw_gNLJG"
      },
      "source": [
        "plt.plot(training_stats,'r')\n",
        "plt.plot(testing_stats,'b')"
      ],
      "id": "xIDIgw_gNLJG",
      "execution_count": null,
      "outputs": []
    },
    {
      "cell_type": "code",
      "metadata": {
        "id": "yJGhAXjxNLSK"
      },
      "source": [
        "|xtmp,ytrain_scaled = train_set[:]\n",
        "ytrain_scaled = ytrain_scaled.detach().cpu().numpy()\n",
        "ytrain_pred = Redshift_model(xtmp.to(device)).detach().cpu().numpy()\n",
        "\n",
        "xtmp,ytest_scaled = test_set[:]\n",
        "ytest_scaled = ytest_scaled.detach().cpu().numpy()\n",
        "ytest_pred = Redshift_model(xtmp.to(device)).detach().cpu().numpy()"
      ],
      "id": "yJGhAXjxNLSK",
      "execution_count": 176,
      "outputs": []
    },
    {
      "cell_type": "code",
      "metadata": {
        "id": "m8groAUYP9LI"
      },
      "source": [
        "ytrain_pred = scalery.inverse_transform(ytrain_pred)\n",
        "ytest_pred = scalery.inverse_transform(ytest_pred)\n",
        "\n",
        "ytrain_unscaled = scalery.inverse_transform(ytrain_scaled)\n",
        "ytest_unscaled = scalery.inverse_transform(ytest_scaled)"
      ],
      "id": "m8groAUYP9LI",
      "execution_count": 177,
      "outputs": []
    },
    {
      "cell_type": "code",
      "metadata": {
        "colab": {
          "base_uri": "https://localhost:8080/"
        },
        "id": "vwDRLd6hP9LK",
        "outputId": "ac010abe-a4f2-451d-e353-a51545a4ba89"
      },
      "source": [
        "print(\"Training set statistics\")\n",
        "Performance(ytrain_unscaled,ytrain_pred)"
      ],
      "id": "vwDRLd6hP9LK",
      "execution_count": 178,
      "outputs": [
        {
          "output_type": "stream",
          "text": [
            "Training set statistics\n",
            "Mean square error: 0.1813492327928543\n",
            "Mean absolute percentage error: 1.4021697044372559\n",
            "R2 score: 0.6322452083894308\n"
          ],
          "name": "stdout"
        }
      ]
    },
    {
      "cell_type": "code",
      "metadata": {
        "colab": {
          "base_uri": "https://localhost:8080/"
        },
        "id": "TgKxUAbiP9LM",
        "outputId": "b6629844-e576-4af2-e0cd-91da0c73c025"
      },
      "source": [
        "print(\"Testing set statistics\")\n",
        "Performance(ytest_unscaled,ytest_pred)"
      ],
      "id": "TgKxUAbiP9LM",
      "execution_count": 179,
      "outputs": [
        {
          "output_type": "stream",
          "text": [
            "Testing set statistics\n",
            "Mean square error: 0.1826229989528656\n",
            "Mean absolute percentage error: 2.864990711212158\n",
            "R2 score: 0.6191977868783356\n"
          ],
          "name": "stdout"
        }
      ]
    },
    {
      "cell_type": "code",
      "metadata": {
        "colab": {
          "base_uri": "https://localhost:8080/",
          "height": 545
        },
        "id": "x9WZo1n1P9LN",
        "outputId": "ba577200-62c6-454e-d897-618580cc4f4e"
      },
      "source": [
        "Make_scatter_plot(ytrain_unscaled,ytrain_pred)\n",
        "Make_scatter_plot(ytest_unscaled,ytest_pred)"
      ],
      "id": "x9WZo1n1P9LN",
      "execution_count": 180,
      "outputs": [
        {
          "output_type": "display_data",
          "data": {
            "image/png": "[encoded data removed]",
            "text/plain": [
              "<Figure size 432x288 with 1 Axes>"
            ]
          },
          "metadata": {
            "tags": [],
            "needs_background": "light"
          }
        },
        {
          "output_type": "display_data",
          "data": {
            "image/png": "[encoded data removed]",
            "text/plain": [
              "<Figure size 432x288 with 1 Axes>"
            ]
          },
          "metadata": {
            "tags": [],
            "needs_background": "light"
          }
        }
      ]
    },
    {
      "cell_type": "code",
      "metadata": {
        "id": "6nYEbtuSZ3ER"
      },
      "source": [
        ""
      ],
      "id": "6nYEbtuSZ3ER",
      "execution_count": null,
      "outputs": []
    }
  ]
}