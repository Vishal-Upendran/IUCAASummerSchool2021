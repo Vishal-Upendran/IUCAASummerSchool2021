{
 "cells": [
  {
   "cell_type": "markdown",
   "metadata": {
    "colab_type": "text",
    "id": "view-in-github",
    "slideshow": {
     "slide_type": "-"
    }
   },
   "source": [
    "<a href=\"https://colab.research.google.com/github/Vishal-Upendran/IUCAASummerSchool2021/blob/main/Regression.ipynb\" target=\"_parent\"><img src=\"https://colab.research.google.com/assets/colab-badge.svg\" alt=\"Open In Colab\"/></a>"
   ]
  },
  {
   "cell_type": "markdown",
   "metadata": {
    "id": "north-crawford",
    "slideshow": {
     "slide_type": "-"
    }
   },
   "source": [
    "# Estimate actual redshifts from photometric data\n",
    "\n",
    "We have photometric data -- magnitudes and colors. We will use this to estimate the actual redshift of the object as measured through its spectrum."
   ]
  },
  {
   "cell_type": "markdown",
   "metadata": {
    "id": "settled-director",
    "slideshow": {
     "slide_type": "-"
    }
   },
   "source": [
    "## Step wise procedure\n",
    "\n",
    "1. Data preparation and processing\n",
    "2. Pre-preparation: Have summary metrics ready.\n",
    "3. Linear: Regression using Ordinary least squares\n",
    "4. Non-linear: Let's do a Neural network in pytorch"
   ]
  },
  {
   "cell_type": "code",
   "execution_count": 1,
   "metadata": {
    "id": "dense-bottom"
   },
   "outputs": [],
   "source": [
    "%matplotlib inline\n",
    "import numpy as np\n",
    "import matplotlib.pyplot as plt \n",
    "import pandas as pd\n",
    "import warnings\n",
    "warnings.filterwarnings('ignore')"
   ]
  },
  {
   "cell_type": "markdown",
   "metadata": {
    "id": "Lo6zu-UFj806"
   },
   "source": [
    "# Step 1: Download data"
   ]
  },
  {
   "cell_type": "code",
   "execution_count": 4,
   "metadata": {},
   "outputs": [
    {
     "name": "stdout",
     "output_type": "stream",
     "text": [
      "Defaulting to user installation because normal site-packages is not writeable\n",
      "Collecting gdown\n",
      "  Downloading gdown-3.13.0.tar.gz (9.3 kB)\n",
      "  Installing build dependencies ... \u001b[?25ldone\n",
      "\u001b[?25h  Getting requirements to build wheel ... \u001b[?25ldone\n",
      "\u001b[?25h    Preparing wheel metadata ... \u001b[?25ldone\n",
      "\u001b[?25hRequirement already satisfied: requests[socks]>=2.12.0 in /usr/lib/python3/dist-packages (from gdown) (2.18.4)\n",
      "Requirement already satisfied: tqdm in /home/uvishal/.local/lib/python3.6/site-packages (from gdown) (4.42.1)\n",
      "Collecting filelock\n",
      "  Downloading filelock-3.0.12-py3-none-any.whl (7.6 kB)\n",
      "Requirement already satisfied: six in /home/uvishal/.local/lib/python3.6/site-packages (from gdown) (1.15.0)\n",
      "Collecting PySocks!=1.5.7,>=1.5.6\n",
      "  Downloading PySocks-1.7.1-py3-none-any.whl (16 kB)\n",
      "Building wheels for collected packages: gdown\n",
      "  Building wheel for gdown (PEP 517) ... \u001b[?25ldone\n",
      "\u001b[?25h  Created wheel for gdown: filename=gdown-3.13.0-py3-none-any.whl size=9034 sha256=d4e90e04afc6727a2d83ffc00c73e118feb5b894eda31cf48498755893ac370f\n",
      "  Stored in directory: /home/uvishal/.cache/pip/wheels/6a/87/bd/09b16161b149fd6711ac76b5420d78ed58bd6a320e892117c3\n",
      "Successfully built gdown\n",
      "Installing collected packages: PySocks, filelock, gdown\n",
      "Successfully installed PySocks-1.7.1 filelock-3.0.12 gdown-3.13.0\n"
     ]
    }
   ],
   "source": [
    "!pip install gdown"
   ]
  },
  {
   "cell_type": "code",
   "execution_count": 5,
   "metadata": {
    "colab": {
     "base_uri": "https://localhost:8080/"
    },
    "id": "_6rfCublj1OU",
    "outputId": "cc8767c3-2f90-46ed-e0aa-d9b48870ca75"
   },
   "outputs": [
    {
     "name": "stdout",
     "output_type": "stream",
     "text": [
      "Downloading...\n",
      "From: https://drive.google.com/uc?id=1D7OZ_ibIjl-2clagDXHBgiX_-BxAycmK\n",
      "To: /home/uvishal/Desktop/SummerSchool2021/Skyserver_12_15_2020 3 45 07 AM.csv\n",
      "82.5MB [00:06, 13.6MB/s]\n"
     ]
    }
   ],
   "source": [
    "!gdown --id 1D7OZ_ibIjl-2clagDXHBgiX_-BxAycmK "
   ]
  },
  {
   "cell_type": "code",
   "execution_count": 6,
   "metadata": {
    "colab": {
     "base_uri": "https://localhost:8080/",
     "height": 357
    },
    "id": "2y8QYLmrSy1K",
    "outputId": "6c6c7539-90bb-4bf5-c3a5-a31d07d59410"
   },
   "outputs": [
    {
     "name": "stdout",
     "output_type": "stream",
     "text": [
      "Defaulting to user installation because normal site-packages is not writeable\n",
      "Requirement already satisfied: scikit-learn in /home/uvishal/.local/lib/python3.6/site-packages (0.21.3)\n",
      "Collecting scikit-learn\n",
      "  Downloading scikit_learn-0.24.2-cp36-cp36m-manylinux2010_x86_64.whl (22.2 MB)\n",
      "\u001b[K     |████████████████████████████████| 22.2 MB 3.6 MB/s eta 0:00:01     |███████████████████▏            | 13.3 MB 2.6 MB/s eta 0:00:04\n",
      "\u001b[?25hRequirement already satisfied: scipy>=0.19.1 in /home/uvishal/.local/lib/python3.6/site-packages (from scikit-learn) (1.3.1)\n",
      "Collecting threadpoolctl>=2.0.0\n",
      "  Downloading threadpoolctl-2.1.0-py3-none-any.whl (12 kB)\n",
      "Requirement already satisfied: joblib>=0.11 in /home/uvishal/.local/lib/python3.6/site-packages (from scikit-learn) (0.13.2)\n",
      "Requirement already satisfied: numpy>=1.13.3 in /home/uvishal/.local/lib/python3.6/site-packages (from scikit-learn) (1.16.4)\n",
      "Installing collected packages: threadpoolctl, scikit-learn\n",
      "  Attempting uninstall: scikit-learn\n",
      "    Found existing installation: scikit-learn 0.21.3\n",
      "    Uninstalling scikit-learn-0.21.3:\n",
      "      Successfully uninstalled scikit-learn-0.21.3\n",
      "Successfully installed scikit-learn-0.24.2 threadpoolctl-2.1.0\n"
     ]
    }
   ],
   "source": [
    "!pip install scikit-learn --upgrade"
   ]
  },
  {
   "cell_type": "code",
   "execution_count": 2,
   "metadata": {
    "id": "opposite-burns"
   },
   "outputs": [],
   "source": [
    "Data = pd.read_csv(\"Skyserver_12_15_2020 3 45 07 AM.csv\",comment=\"#\")"
   ]
  },
  {
   "cell_type": "code",
   "execution_count": 3,
   "metadata": {
    "colab": {
     "base_uri": "https://localhost:8080/",
     "height": 226
    },
    "id": "zjKMQX2Pm4Tz",
    "outputId": "70238252-c3df-43ee-f302-f3387a12d735"
   },
   "outputs": [
    {
     "data": {
      "text/html": [
       "<div>\n",
       "<style scoped>\n",
       "    .dataframe tbody tr th:only-of-type {\n",
       "        vertical-align: middle;\n",
       "    }\n",
       "\n",
       "    .dataframe tbody tr th {\n",
       "        vertical-align: top;\n",
       "    }\n",
       "\n",
       "    .dataframe thead th {\n",
       "        text-align: right;\n",
       "    }\n",
       "</style>\n",
       "<table border=\"1\" class=\"dataframe\">\n",
       "  <thead>\n",
       "    <tr style=\"text-align: right;\">\n",
       "      <th></th>\n",
       "      <th>objid</th>\n",
       "      <th>ra</th>\n",
       "      <th>dec</th>\n",
       "      <th>u</th>\n",
       "      <th>g</th>\n",
       "      <th>r</th>\n",
       "      <th>i</th>\n",
       "      <th>z</th>\n",
       "      <th>run</th>\n",
       "      <th>rerun</th>\n",
       "      <th>camcol</th>\n",
       "      <th>field</th>\n",
       "      <th>specobjid</th>\n",
       "      <th>class</th>\n",
       "      <th>redshift</th>\n",
       "      <th>plate</th>\n",
       "      <th>mjd</th>\n",
       "      <th>fiberid</th>\n",
       "    </tr>\n",
       "  </thead>\n",
       "  <tbody>\n",
       "    <tr>\n",
       "      <th>0</th>\n",
       "      <td>1237678877245244171</td>\n",
       "      <td>318.951692</td>\n",
       "      <td>9.315146</td>\n",
       "      <td>19.51665</td>\n",
       "      <td>18.50036</td>\n",
       "      <td>17.95667</td>\n",
       "      <td>17.53139</td>\n",
       "      <td>17.32035</td>\n",
       "      <td>7777</td>\n",
       "      <td>301</td>\n",
       "      <td>5</td>\n",
       "      <td>53</td>\n",
       "      <td>819657923239110656</td>\n",
       "      <td>GALAXY</td>\n",
       "      <td>0.114299</td>\n",
       "      <td>728</td>\n",
       "      <td>52520</td>\n",
       "      <td>10</td>\n",
       "    </tr>\n",
       "    <tr>\n",
       "      <th>1</th>\n",
       "      <td>1237668332026986542</td>\n",
       "      <td>217.940001</td>\n",
       "      <td>14.608378</td>\n",
       "      <td>19.13548</td>\n",
       "      <td>18.55482</td>\n",
       "      <td>17.95603</td>\n",
       "      <td>17.68272</td>\n",
       "      <td>17.63717</td>\n",
       "      <td>5322</td>\n",
       "      <td>301</td>\n",
       "      <td>3</td>\n",
       "      <td>56</td>\n",
       "      <td>6154252554903769088</td>\n",
       "      <td>QSO</td>\n",
       "      <td>1.802680</td>\n",
       "      <td>5466</td>\n",
       "      <td>56033</td>\n",
       "      <td>304</td>\n",
       "    </tr>\n",
       "    <tr>\n",
       "      <th>2</th>\n",
       "      <td>1237664092899115053</td>\n",
       "      <td>129.948221</td>\n",
       "      <td>25.213328</td>\n",
       "      <td>19.54955</td>\n",
       "      <td>18.19434</td>\n",
       "      <td>17.83220</td>\n",
       "      <td>17.51329</td>\n",
       "      <td>17.47054</td>\n",
       "      <td>4335</td>\n",
       "      <td>301</td>\n",
       "      <td>3</td>\n",
       "      <td>130</td>\n",
       "      <td>2173034979993348096</td>\n",
       "      <td>GALAXY</td>\n",
       "      <td>0.070813</td>\n",
       "      <td>1930</td>\n",
       "      <td>53347</td>\n",
       "      <td>175</td>\n",
       "    </tr>\n",
       "    <tr>\n",
       "      <th>3</th>\n",
       "      <td>1237654604252119048</td>\n",
       "      <td>160.357788</td>\n",
       "      <td>3.567886</td>\n",
       "      <td>17.72343</td>\n",
       "      <td>16.65830</td>\n",
       "      <td>16.23667</td>\n",
       "      <td>16.07098</td>\n",
       "      <td>16.02797</td>\n",
       "      <td>2126</td>\n",
       "      <td>301</td>\n",
       "      <td>1</td>\n",
       "      <td>275</td>\n",
       "      <td>649647859372681216</td>\n",
       "      <td>STAR</td>\n",
       "      <td>0.000570</td>\n",
       "      <td>577</td>\n",
       "      <td>52367</td>\n",
       "      <td>13</td>\n",
       "    </tr>\n",
       "    <tr>\n",
       "      <th>4</th>\n",
       "      <td>1237661360769400880</td>\n",
       "      <td>226.001700</td>\n",
       "      <td>38.619699</td>\n",
       "      <td>16.60500</td>\n",
       "      <td>15.66234</td>\n",
       "      <td>15.39406</td>\n",
       "      <td>15.29443</td>\n",
       "      <td>15.29302</td>\n",
       "      <td>3699</td>\n",
       "      <td>301</td>\n",
       "      <td>2</td>\n",
       "      <td>227</td>\n",
       "      <td>5817649714997514240</td>\n",
       "      <td>STAR</td>\n",
       "      <td>-0.000184</td>\n",
       "      <td>5167</td>\n",
       "      <td>56066</td>\n",
       "      <td>454</td>\n",
       "    </tr>\n",
       "  </tbody>\n",
       "</table>\n",
       "</div>"
      ],
      "text/plain": [
       "                 objid          ra        dec         u         g         r  \\\n",
       "0  1237678877245244171  318.951692   9.315146  19.51665  18.50036  17.95667   \n",
       "1  1237668332026986542  217.940001  14.608378  19.13548  18.55482  17.95603   \n",
       "2  1237664092899115053  129.948221  25.213328  19.54955  18.19434  17.83220   \n",
       "3  1237654604252119048  160.357788   3.567886  17.72343  16.65830  16.23667   \n",
       "4  1237661360769400880  226.001700  38.619699  16.60500  15.66234  15.39406   \n",
       "\n",
       "          i         z   run  rerun  camcol  field            specobjid  \\\n",
       "0  17.53139  17.32035  7777    301       5     53   819657923239110656   \n",
       "1  17.68272  17.63717  5322    301       3     56  6154252554903769088   \n",
       "2  17.51329  17.47054  4335    301       3    130  2173034979993348096   \n",
       "3  16.07098  16.02797  2126    301       1    275   649647859372681216   \n",
       "4  15.29443  15.29302  3699    301       2    227  5817649714997514240   \n",
       "\n",
       "    class  redshift  plate    mjd  fiberid  \n",
       "0  GALAXY  0.114299    728  52520       10  \n",
       "1     QSO  1.802680   5466  56033      304  \n",
       "2  GALAXY  0.070813   1930  53347      175  \n",
       "3    STAR  0.000570    577  52367       13  \n",
       "4    STAR -0.000184   5167  56066      454  "
      ]
     },
     "execution_count": 3,
     "metadata": {},
     "output_type": "execute_result"
    }
   ],
   "source": [
    "Data.head()"
   ]
  },
  {
   "cell_type": "code",
   "execution_count": 4,
   "metadata": {
    "id": "TvMoDPJGRZlB"
   },
   "outputs": [],
   "source": [
    "#First, replace with nan\n",
    "Data = Data.replace(-9999.0,np.nan)\n",
    "Data.dropna(inplace=True)"
   ]
  },
  {
   "cell_type": "markdown",
   "metadata": {
    "id": "CtN9bqJXkD2M"
   },
   "source": [
    "# Step 2: Convert magnitudes to color.\n",
    "\n",
    "This step is to ensure \"flux\" due to distance is removed, and relative intensities between different bands is taken."
   ]
  },
  {
   "cell_type": "code",
   "execution_count": 5,
   "metadata": {
    "id": "light-haiti"
   },
   "outputs": [],
   "source": [
    "df = Data[['class','redshift']]\n",
    "df['u_g'] = Data['u']-Data['g']\n",
    "df['g_r'] = Data['g']-Data['r']\n",
    "df['r_i'] = Data['r']-Data['i']\n",
    "df['i_z'] = Data['i']-Data['z']\n",
    "\n",
    "df = df.loc[df['class']=='QSO']"
   ]
  },
  {
   "cell_type": "code",
   "execution_count": 6,
   "metadata": {
    "colab": {
     "base_uri": "https://localhost:8080/",
     "height": 206
    },
    "id": "Eb-14mAmR22s",
    "outputId": "843523a1-4a19-40d9-80ea-34eb9a20aae9"
   },
   "outputs": [
    {
     "data": {
      "text/html": [
       "<div>\n",
       "<style scoped>\n",
       "    .dataframe tbody tr th:only-of-type {\n",
       "        vertical-align: middle;\n",
       "    }\n",
       "\n",
       "    .dataframe tbody tr th {\n",
       "        vertical-align: top;\n",
       "    }\n",
       "\n",
       "    .dataframe thead th {\n",
       "        text-align: right;\n",
       "    }\n",
       "</style>\n",
       "<table border=\"1\" class=\"dataframe\">\n",
       "  <thead>\n",
       "    <tr style=\"text-align: right;\">\n",
       "      <th></th>\n",
       "      <th>class</th>\n",
       "      <th>redshift</th>\n",
       "      <th>u_g</th>\n",
       "      <th>g_r</th>\n",
       "      <th>r_i</th>\n",
       "      <th>i_z</th>\n",
       "    </tr>\n",
       "  </thead>\n",
       "  <tbody>\n",
       "    <tr>\n",
       "      <th>1</th>\n",
       "      <td>QSO</td>\n",
       "      <td>1.802680</td>\n",
       "      <td>0.58066</td>\n",
       "      <td>0.59879</td>\n",
       "      <td>0.27331</td>\n",
       "      <td>0.04555</td>\n",
       "    </tr>\n",
       "    <tr>\n",
       "      <th>8</th>\n",
       "      <td>QSO</td>\n",
       "      <td>0.754256</td>\n",
       "      <td>0.20686</td>\n",
       "      <td>0.09017</td>\n",
       "      <td>0.12023</td>\n",
       "      <td>0.06721</td>\n",
       "    </tr>\n",
       "    <tr>\n",
       "      <th>28</th>\n",
       "      <td>QSO</td>\n",
       "      <td>1.681824</td>\n",
       "      <td>0.13062</td>\n",
       "      <td>0.00068</td>\n",
       "      <td>0.20351</td>\n",
       "      <td>0.02154</td>\n",
       "    </tr>\n",
       "    <tr>\n",
       "      <th>55</th>\n",
       "      <td>QSO</td>\n",
       "      <td>0.506626</td>\n",
       "      <td>0.23220</td>\n",
       "      <td>0.04590</td>\n",
       "      <td>0.14832</td>\n",
       "      <td>0.03768</td>\n",
       "    </tr>\n",
       "    <tr>\n",
       "      <th>57</th>\n",
       "      <td>QSO</td>\n",
       "      <td>0.395499</td>\n",
       "      <td>0.24153</td>\n",
       "      <td>0.55923</td>\n",
       "      <td>0.44332</td>\n",
       "      <td>0.50756</td>\n",
       "    </tr>\n",
       "  </tbody>\n",
       "</table>\n",
       "</div>"
      ],
      "text/plain": [
       "   class  redshift      u_g      g_r      r_i      i_z\n",
       "1    QSO  1.802680  0.58066  0.59879  0.27331  0.04555\n",
       "8    QSO  0.754256  0.20686  0.09017  0.12023  0.06721\n",
       "28   QSO  1.681824  0.13062  0.00068  0.20351  0.02154\n",
       "55   QSO  0.506626  0.23220  0.04590  0.14832  0.03768\n",
       "57   QSO  0.395499  0.24153  0.55923  0.44332  0.50756"
      ]
     },
     "execution_count": 6,
     "metadata": {},
     "output_type": "execute_result"
    }
   ],
   "source": [
    "df.head()"
   ]
  },
  {
   "cell_type": "code",
   "execution_count": 7,
   "metadata": {
    "id": "alleged-closer"
   },
   "outputs": [],
   "source": [
    "df = df.drop('class',axis=1)"
   ]
  },
  {
   "cell_type": "code",
   "execution_count": 8,
   "metadata": {
    "colab": {
     "base_uri": "https://localhost:8080/"
    },
    "id": "z_5RDAImRsPH",
    "outputId": "9cecf609-5f6b-4fa1-eaeb-ffcafca5bb5c"
   },
   "outputs": [
    {
     "data": {
      "text/plain": [
       "Index(['redshift', 'u_g', 'g_r', 'r_i', 'i_z'], dtype='object')"
      ]
     },
     "execution_count": 8,
     "metadata": {},
     "output_type": "execute_result"
    }
   ],
   "source": [
    "df.columns"
   ]
  },
  {
   "cell_type": "code",
   "execution_count": 9,
   "metadata": {
    "id": "paperback-knife"
   },
   "outputs": [],
   "source": [
    "from sklearn.preprocessing import StandardScaler"
   ]
  },
  {
   "cell_type": "code",
   "execution_count": 10,
   "metadata": {
    "colab": {
     "base_uri": "https://localhost:8080/"
    },
    "id": "AiZPLIeTm9YP",
    "outputId": "5f9e62e0-7039-44ed-8c01-8d8c0633a811"
   },
   "outputs": [
    {
     "name": "stdout",
     "output_type": "stream",
     "text": [
      "(54536, 4) (54536,)\n"
     ]
    }
   ],
   "source": [
    "input_raw = df[['u_g','g_r','r_i','i_z']].values\n",
    "output_raw = df['redshift'].values\n",
    "print(input_raw.shape,output_raw.shape)"
   ]
  },
  {
   "cell_type": "code",
   "execution_count": 11,
   "metadata": {
    "id": "22BaAMGNSapI"
   },
   "outputs": [],
   "source": [
    "output_raw = output_raw.reshape([-1,1])"
   ]
  },
  {
   "cell_type": "code",
   "execution_count": 12,
   "metadata": {
    "colab": {
     "base_uri": "https://localhost:8080/",
     "height": 563
    },
    "id": "aqOtINlUm_AV",
    "outputId": "788b2cf2-2057-4988-c708-cfb0da3126d0"
   },
   "outputs": [
    {
     "data": {
      "text/plain": [
       "Text(0, 0.5, 'Counts')"
      ]
     },
     "execution_count": 12,
     "metadata": {},
     "output_type": "execute_result"
    },
    {
     "data": {
      "image/png": "[encoded data removed]",
      "text/plain": [
       "<Figure size 432x288 with 1 Axes>"
      ]
     },
     "metadata": {
      "needs_background": "light"
     },
     "output_type": "display_data"
    },
    {
     "data": {
      "image/png": "[encoded data removed]",
      "text/plain": [
       "<Figure size 432x288 with 1 Axes>"
      ]
     },
     "metadata": {
      "needs_background": "light"
     },
     "output_type": "display_data"
    }
   ],
   "source": [
    "_ = plt.hist(output_raw[:,0],30)\n",
    "plt.xlabel(\"redshift\")\n",
    "plt.ylabel(\"Counts\")\n",
    "plt.figure()\n",
    "_ = plt.hist(input_raw[:,0],30)\n",
    "plt.xlabel(\"U-G\")\n",
    "plt.ylabel(\"Counts\")"
   ]
  },
  {
   "cell_type": "code",
   "execution_count": 13,
   "metadata": {
    "id": "criminal-monitor"
   },
   "outputs": [],
   "source": [
    "scalerx = StandardScaler()\n",
    "scalery = StandardScaler()\n",
    "\n",
    "input_mod = scalerx.fit_transform(input_raw)\n",
    "output_mod = scalery.fit_transform(output_raw)"
   ]
  },
  {
   "cell_type": "markdown",
   "metadata": {
    "id": "studied-eleven"
   },
   "source": [
    "### Train-test split"
   ]
  },
  {
   "cell_type": "code",
   "execution_count": 14,
   "metadata": {
    "colab": {
     "base_uri": "https://localhost:8080/"
    },
    "id": "aware-paintball",
    "outputId": "7c05e362-9832-4a4b-d7e3-854b95dbc669"
   },
   "outputs": [
    {
     "name": "stdout",
     "output_type": "stream",
     "text": [
      "(46355, 4) (46355, 1)\n",
      "(8181, 4) (8181, 1)\n"
     ]
    }
   ],
   "source": [
    "idx = np.arange(input_mod.shape[0])\n",
    "\n",
    "#----------- Shuffle the indices\n",
    "np.random.seed(2796)\n",
    "np.random.shuffle(idx)\n",
    "idx = list(idx)\n",
    "#-----------------\n",
    "trainlocs = idx[:int(len(idx) * 0.85)]\n",
    "xtrain = input_mod[trainlocs,:]\n",
    "ytrain = output_mod[trainlocs]\n",
    "print(xtrain.shape,ytrain.shape)\n",
    "\n",
    "#------------------\n",
    "testlocs = idx[int(len(idx) * 0.85):]\n",
    "xtest = input_mod[testlocs]\n",
    "ytest = output_mod[testlocs]\n",
    "print(xtest.shape,ytest.shape)"
   ]
  },
  {
   "cell_type": "code",
   "execution_count": 15,
   "metadata": {
    "id": "4PJ9h4WVtYLc"
   },
   "outputs": [],
   "source": [
    "ytrain_og = scalery.inverse_transform(ytrain)\n",
    "ytest_og = scalery.inverse_transform(ytest)"
   ]
  },
  {
   "cell_type": "code",
   "execution_count": 16,
   "metadata": {
    "id": "blank-february"
   },
   "outputs": [],
   "source": [
    "from sklearn.metrics import mean_absolute_percentage_error,r2_score,mean_squared_error\n",
    "def Performance(target,prediction):\n",
    "    print(f\"Mean square error: {mean_squared_error(target,prediction)}\")\n",
    "    print(f\"Mean absolute percentage error: {mean_absolute_percentage_error(target,prediction)}\")\n",
    "    print(f\"R2 score: {r2_score(target,prediction)}\")"
   ]
  },
  {
   "cell_type": "code",
   "execution_count": 17,
   "metadata": {
    "id": "tVQfSS03sg4P"
   },
   "outputs": [],
   "source": [
    "def Make_scatter_plot(target,prediction):\n",
    "    plt.figure()\n",
    "    plt.scatter(target,prediction,s=2.0)\n",
    "    plt.xlabel(\"Targets\")\n",
    "    plt.ylabel(\"predictions\")"
   ]
  },
  {
   "cell_type": "markdown",
   "metadata": {
    "id": "retained-fifth"
   },
   "source": [
    "# First up, let us check how Linear regression works out\n",
    "\n",
    "We will use $\\color{#d08c60}{Scikit-learn}$ to perform linear regression. This assumes the form of our predictor as: \n",
    "\n",
    "$$z_{pred,j} = W_{ij}m_{i} + b_j,$$ where $m_{i}$ are the individual colors for each sample, and $j$ corresponds to each sample.\n",
    "\n"
   ]
  },
  {
   "cell_type": "code",
   "execution_count": 18,
   "metadata": {
    "id": "enhanced-devon"
   },
   "outputs": [],
   "source": [
    "from sklearn.linear_model import LinearRegression"
   ]
  },
  {
   "cell_type": "code",
   "execution_count": 19,
   "metadata": {
    "colab": {
     "base_uri": "https://localhost:8080/"
    },
    "id": "horizontal-lesbian",
    "outputId": "5b4eb7cc-b1fa-4986-e260-5543d3e33288"
   },
   "outputs": [
    {
     "data": {
      "text/plain": [
       "LinearRegression()"
      ]
     },
     "execution_count": 19,
     "metadata": {},
     "output_type": "execute_result"
    }
   ],
   "source": [
    "LinReg = LinearRegression()\n",
    "LinReg.fit(xtrain,ytrain)"
   ]
  },
  {
   "cell_type": "code",
   "execution_count": 20,
   "metadata": {
    "id": "jKeX__vrQzMt"
   },
   "outputs": [],
   "source": [
    "ytrain_pred = LinReg.predict(xtrain)\n",
    "ytest_pred = LinReg.predict(xtest)"
   ]
  },
  {
   "cell_type": "code",
   "execution_count": 21,
   "metadata": {
    "id": "german-circus"
   },
   "outputs": [],
   "source": [
    "ytrain_pred = scalery.inverse_transform(ytrain_pred)\n",
    "ytest_pred = scalery.inverse_transform(ytest_pred)"
   ]
  },
  {
   "cell_type": "code",
   "execution_count": 22,
   "metadata": {
    "colab": {
     "base_uri": "https://localhost:8080/"
    },
    "id": "DYnV-IBetOv8",
    "outputId": "12c8f51d-7cd9-40dc-c19b-453beed89690"
   },
   "outputs": [
    {
     "name": "stdout",
     "output_type": "stream",
     "text": [
      "Training set statistics\n",
      "Mean square error: 0.4341474455449827\n",
      "Mean absolute percentage error: 1.6382026041507045\n",
      "R2 score: 0.11960032422078937\n"
     ]
    }
   ],
   "source": [
    "print(\"Training set statistics\")\n",
    "Performance(ytrain_og,ytrain_pred)"
   ]
  },
  {
   "cell_type": "code",
   "execution_count": 23,
   "metadata": {
    "colab": {
     "base_uri": "https://localhost:8080/"
    },
    "id": "x66DU_KXt2wf",
    "outputId": "e053ac49-3aaa-4f22-919a-4379c439c60b"
   },
   "outputs": [
    {
     "name": "stdout",
     "output_type": "stream",
     "text": [
      "Testing set statistics\n",
      "Mean square error: 0.4130444409033818\n",
      "Mean absolute percentage error: 2.8755175537844018\n",
      "R2 score: 0.138727060676193\n"
     ]
    }
   ],
   "source": [
    "print(\"Testing set statistics\")\n",
    "Performance(ytest_og,ytest_pred)"
   ]
  },
  {
   "cell_type": "code",
   "execution_count": 25,
   "metadata": {
    "colab": {
     "base_uri": "https://localhost:8080/",
     "height": 544
    },
    "id": "occasional-primary",
    "outputId": "408b48d9-e5c5-4113-d50f-85ca3b6227f6"
   },
   "outputs": [
    {
     "data": {
      "text/plain": [
       "Text(0.5, 1.0, 'Testing set')"
      ]
     },
     "execution_count": 25,
     "metadata": {},
     "output_type": "execute_result"
    },
    {
     "data": {
      "image/png": "[encoded data removed]",
      "text/plain": [
       "<Figure size 432x288 with 1 Axes>"
      ]
     },
     "metadata": {
      "needs_background": "light"
     },
     "output_type": "display_data"
    },
    {
     "data": {
      "image/png": "[encoded data removed]",
      "text/plain": [
       "<Figure size 432x288 with 1 Axes>"
      ]
     },
     "metadata": {
      "needs_background": "light"
     },
     "output_type": "display_data"
    }
   ],
   "source": [
    "Make_scatter_plot(ytrain_og,ytrain_pred)\n",
    "plt.title(\"Training set\")\n",
    "Make_scatter_plot(ytest_og,ytest_pred)\n",
    "plt.title(\"Testing set\")"
   ]
  },
  {
   "cell_type": "markdown",
   "metadata": {
    "id": "qo4Xz6_LyLw_"
   },
   "source": [
    "That is fine performance for a linear model. But it could be better, so let's code up a neural network and check performance."
   ]
  },
  {
   "cell_type": "markdown",
   "metadata": {
    "id": "3kP_jYOizoIU"
   },
   "source": [
    "# Neural network\n",
    "\n",
    "We shall use $\\color{#dc2f02}{Pytorch}$ to make our neural network. You can use tensorflow or keras or whatever package you like -- pytorch is in vogue now, so we go ahead with it. "
   ]
  },
  {
   "cell_type": "markdown",
   "metadata": {
    "id": "ywj6_ClG2YCZ"
   },
   "source": [
    "## Pytorch structure\n",
    "\n",
    "![pytorch.png](data:image/png;base64,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)"
   ]
  },
  {
   "cell_type": "markdown",
   "metadata": {
    "id": "0MVbjMgkKKM7"
   },
   "source": [
    "So basically, we need to write a small:\n",
    "1. Data class, which will give us input and output for a given sample.\n",
    "2. A model class which will define our network and generate output for a given input.\n",
    "3. A *for* loop which will iterate over data and train the network."
   ]
  },
  {
   "cell_type": "code",
   "execution_count": 18,
   "metadata": {
    "id": "gGFsajnbyV8z"
   },
   "outputs": [],
   "source": [
    "import torch\n",
    "import torch.nn as nn\n",
    "from torch.utils import data"
   ]
  },
  {
   "cell_type": "code",
   "execution_count": 19,
   "metadata": {
    "id": "nT9H6YmlMu7T"
   },
   "outputs": [],
   "source": [
    "def _float(tensor):\n",
    "    return torch.Tensor(tensor.astype(np.float32)).float()"
   ]
  },
  {
   "cell_type": "code",
   "execution_count": 20,
   "metadata": {
    "id": "vNkmTz-LLCJK"
   },
   "outputs": [],
   "source": [
    "class ReDNN(nn.Module):\n",
    "    def __init__(self,nin,nout):\n",
    "        super(ReDNN,self).__init__()\n",
    "        self.NN = nn.Sequential(\n",
    "                    nn.Linear(nin,12),\n",
    "                    nn.ELU(inplace=True),\n",
    "                    nn.Linear(12,26),\n",
    "                    nn.ELU(inplace=True),\n",
    "                    nn.Linear(26,14),\n",
    "                    nn.ELU(inplace=True),\n",
    "                    nn.Linear(14,7),\n",
    "                    nn.ELU(inplace=True),\n",
    "                    nn.Linear(7,nout)\n",
    "        )\n",
    "    def forward(self,input_data):\n",
    "        return self.NN(input_data)"
   ]
  },
  {
   "cell_type": "code",
   "execution_count": 21,
   "metadata": {
    "id": "W2ZH4jBfOBKD"
   },
   "outputs": [],
   "source": [
    "def MSE(true, pred):\n",
    "    return ((true - pred)**2).mean().detach().cpu().numpy()\n",
    "\n",
    "def Wrap_performance(true,pred):\n",
    "    return Performance(true.detach().cpu().numpy(),pred.detach().cpu().numpy())\n",
    "\n",
    "def loss_fn(true,pred):\n",
    "    return ((true - pred)**2).mean()\n"
   ]
  },
  {
   "cell_type": "code",
   "execution_count": 22,
   "metadata": {
    "colab": {
     "base_uri": "https://localhost:8080/"
    },
    "id": "N6hNLJaxUxAW",
    "outputId": "0b432720-de77-4c7e-a267-206932ac0624"
   },
   "outputs": [
    {
     "data": {
      "text/plain": [
       "<torch._C.Generator at 0x7f07b36607b0>"
      ]
     },
     "execution_count": 22,
     "metadata": {},
     "output_type": "execute_result"
    }
   ],
   "source": [
    "torch.manual_seed(0)"
   ]
  },
  {
   "cell_type": "code",
   "execution_count": 23,
   "metadata": {
    "colab": {
     "base_uri": "https://localhost:8080/"
    },
    "id": "AQ9OGk0vNj3T",
    "outputId": "1aaa61c7-2a96-4bc4-c873-e9148aad5e6a"
   },
   "outputs": [
    {
     "name": "stdout",
     "output_type": "stream",
     "text": [
      "cpu\n"
     ]
    }
   ],
   "source": [
    "device = torch.device(\"cuda\" if torch.cuda.is_available() else \"cpu\")\n",
    "print(device)"
   ]
  },
  {
   "cell_type": "code",
   "execution_count": 24,
   "metadata": {
    "id": "DuzyIDXvKpQh"
   },
   "outputs": [],
   "source": [
    "class Data(data.Dataset):\n",
    "    def __init__(self,features,target):\n",
    "        self.features = _float(features).to(device)\n",
    "        self.target = _float(target).to(device)\n",
    "        self.nout = target.shape[-1]\n",
    "        self.nin = features.shape[-1]\n",
    "    def __len__(self):\n",
    "        return self.features.shape[0]\n",
    "    def __getitem__(self,index):\n",
    "        return self.features[index],self.target[index]"
   ]
  },
  {
   "cell_type": "code",
   "execution_count": 25,
   "metadata": {
    "id": "2_qFr1hwMhRg"
   },
   "outputs": [],
   "source": [
    "batch_size = 50000\n",
    "lr = 1e-3\n",
    "num_epochs = 10000"
   ]
  },
  {
   "cell_type": "code",
   "execution_count": 26,
   "metadata": {
    "id": "T8vgYawcKpTK"
   },
   "outputs": [],
   "source": [
    "train_set = Data(xtrain,ytrain)\n",
    "test_set = Data(xtest,ytest)\n",
    "\n",
    "training_loader = data.DataLoader(train_set,batch_size=batch_size,shuffle=True)\n",
    "test_loader = data.DataLoader(test_set,batch_size=test_set.features.shape[0],shuffle=True)"
   ]
  },
  {
   "cell_type": "code",
   "execution_count": 27,
   "metadata": {
    "colab": {
     "base_uri": "https://localhost:8080/"
    },
    "id": "t5sPJJeXKpWn",
    "outputId": "a8ab1cf5-d965-4525-8a80-1e1097e953c9"
   },
   "outputs": [
    {
     "name": "stdout",
     "output_type": "stream",
     "text": [
      "ReDNN(\n",
      "  (NN): Sequential(\n",
      "    (0): Linear(in_features=4, out_features=12, bias=True)\n",
      "    (1): ELU(alpha=1.0, inplace=True)\n",
      "    (2): Linear(in_features=12, out_features=26, bias=True)\n",
      "    (3): ELU(alpha=1.0, inplace=True)\n",
      "    (4): Linear(in_features=26, out_features=14, bias=True)\n",
      "    (5): ELU(alpha=1.0, inplace=True)\n",
      "    (6): Linear(in_features=14, out_features=7, bias=True)\n",
      "    (7): ELU(alpha=1.0, inplace=True)\n",
      "    (8): Linear(in_features=7, out_features=1, bias=True)\n",
      "  )\n",
      ")\n"
     ]
    }
   ],
   "source": [
    "#This defines our model\n",
    "Redshift_model = ReDNN(train_set.nin,train_set.nout)\n",
    "Redshift_model = Redshift_model.to(device).float()\n",
    "print(Redshift_model)"
   ]
  },
  {
   "cell_type": "code",
   "execution_count": 28,
   "metadata": {
    "id": "LaYoUvJrNK9i"
   },
   "outputs": [],
   "source": [
    "optimizer = torch.optim.Adam(Redshift_model.parameters(),lr=lr)"
   ]
  },
  {
   "cell_type": "code",
   "execution_count": 29,
   "metadata": {
    "colab": {
     "base_uri": "https://localhost:8080/"
    },
    "id": "4vtOj1vMv10f",
    "outputId": "96935690-0818-43fc-9d11-b25a11c500f9"
   },
   "outputs": [
    {
     "name": "stdout",
     "output_type": "stream",
     "text": [
      "/bin/sh: 1: nvidia-smi: not found\r\n"
     ]
    }
   ],
   "source": [
    "!nvidia-smi"
   ]
  },
  {
   "cell_type": "code",
   "execution_count": 30,
   "metadata": {
    "id": "on8hPDaDTgkd"
   },
   "outputs": [],
   "source": [
    "from tqdm import tqdm"
   ]
  },
  {
   "cell_type": "code",
   "execution_count": 31,
   "metadata": {
    "colab": {
     "base_uri": "https://localhost:8080/",
     "height": 1000,
     "referenced_widgets": [
      "9092a442ad134983a535162da5b0124c",
      "1d4d7594c55147c68ca6864d1317ff42",
      "3e9e5e351dcb45ed921afc869cd0485c",
      "d433f8da496f45a783590ec7192175dd",
      "a91c89ded19f423f8f8c7639ccefefe7",
      "c4e7580c399048238a86e585cd600547",
      "88ed6344c98947caaa0c28823e813cc0",
      "c2780d3acb284d7297f627a7f9db967f"
     ]
    },
    "id": "wu6CFlPdNLGR",
    "outputId": "a726b44e-6194-4423-a7b1-0bf4d328609e",
    "scrolled": true
   },
   "outputs": [
    {
     "name": "stderr",
     "output_type": "stream",
     "text": [
      "  0%|          | 1/10000 [00:00<1:09:08,  2.41it/s]"
     ]
    },
    {
     "name": "stdout",
     "output_type": "stream",
     "text": [
      "Training loss: 1.0429177284240723\n",
      "Testing loss: 1.010424017906189\n"
     ]
    },
    {
     "name": "stderr",
     "output_type": "stream",
     "text": [
      "  1%|          | 101/10000 [00:35<1:00:22,  2.73it/s]"
     ]
    },
    {
     "name": "stdout",
     "output_type": "stream",
     "text": [
      "Training loss: 0.805014967918396\n",
      "Testing loss: 0.7586883306503296\n"
     ]
    },
    {
     "name": "stderr",
     "output_type": "stream",
     "text": [
      "  2%|▏         | 201/10000 [01:11<56:39,  2.88it/s]  "
     ]
    },
    {
     "name": "stdout",
     "output_type": "stream",
     "text": [
      "Training loss: 0.5787550806999207\n",
      "Testing loss: 0.5313055515289307\n"
     ]
    },
    {
     "name": "stderr",
     "output_type": "stream",
     "text": [
      "  3%|▎         | 301/10000 [01:47<57:07,  2.83it/s]  "
     ]
    },
    {
     "name": "stdout",
     "output_type": "stream",
     "text": [
      "Training loss: 0.5105524063110352\n",
      "Testing loss: 0.47404029965400696\n"
     ]
    },
    {
     "name": "stderr",
     "output_type": "stream",
     "text": [
      "  4%|▍         | 401/10000 [02:22<55:19,  2.89it/s]  "
     ]
    },
    {
     "name": "stdout",
     "output_type": "stream",
     "text": [
      "Training loss: 0.47775566577911377\n",
      "Testing loss: 0.44577157497406006\n"
     ]
    },
    {
     "name": "stderr",
     "output_type": "stream",
     "text": [
      "  5%|▌         | 501/10000 [02:58<59:30,  2.66it/s]  "
     ]
    },
    {
     "name": "stdout",
     "output_type": "stream",
     "text": [
      "Training loss: 0.4440903067588806\n",
      "Testing loss: 0.4172672927379608\n"
     ]
    },
    {
     "name": "stderr",
     "output_type": "stream",
     "text": [
      "  6%|▌         | 601/10000 [03:34<53:21,  2.94it/s]  "
     ]
    },
    {
     "name": "stdout",
     "output_type": "stream",
     "text": [
      "Training loss: 0.42394933104515076\n",
      "Testing loss: 0.3995254933834076\n"
     ]
    },
    {
     "name": "stderr",
     "output_type": "stream",
     "text": [
      "  7%|▋         | 701/10000 [04:10<57:42,  2.69it/s]  "
     ]
    },
    {
     "name": "stdout",
     "output_type": "stream",
     "text": [
      "Training loss: 0.4142536222934723\n",
      "Testing loss: 0.3914772570133209\n"
     ]
    },
    {
     "name": "stderr",
     "output_type": "stream",
     "text": [
      "  8%|▊         | 801/10000 [04:45<53:29,  2.87it/s]  "
     ]
    },
    {
     "name": "stdout",
     "output_type": "stream",
     "text": [
      "Training loss: 0.40838703513145447\n",
      "Testing loss: 0.3869340419769287\n"
     ]
    },
    {
     "name": "stderr",
     "output_type": "stream",
     "text": [
      "  9%|▉         | 901/10000 [05:21<52:20,  2.90it/s]"
     ]
    },
    {
     "name": "stdout",
     "output_type": "stream",
     "text": [
      "Training loss: 0.40470030903816223\n",
      "Testing loss: 0.3835708796977997\n"
     ]
    },
    {
     "name": "stderr",
     "output_type": "stream",
     "text": [
      " 10%|█         | 1001/10000 [05:56<55:58,  2.68it/s] "
     ]
    },
    {
     "name": "stdout",
     "output_type": "stream",
     "text": [
      "Training loss: 0.4009409248828888\n",
      "Testing loss: 0.3813799321651459\n"
     ]
    },
    {
     "name": "stderr",
     "output_type": "stream",
     "text": [
      " 11%|█         | 1101/10000 [06:32<51:00,  2.91it/s]"
     ]
    },
    {
     "name": "stdout",
     "output_type": "stream",
     "text": [
      "Training loss: 0.39838942885398865\n",
      "Testing loss: 0.3798573613166809\n"
     ]
    },
    {
     "name": "stderr",
     "output_type": "stream",
     "text": [
      " 12%|█▏        | 1201/10000 [07:07<50:24,  2.91it/s]"
     ]
    },
    {
     "name": "stdout",
     "output_type": "stream",
     "text": [
      "Training loss: 0.39623042941093445\n",
      "Testing loss: 0.3786638379096985\n"
     ]
    },
    {
     "name": "stderr",
     "output_type": "stream",
     "text": [
      " 13%|█▎        | 1301/10000 [07:42<52:47,  2.75it/s]"
     ]
    },
    {
     "name": "stdout",
     "output_type": "stream",
     "text": [
      "Training loss: 0.3943498134613037\n",
      "Testing loss: 0.37764668464660645\n"
     ]
    },
    {
     "name": "stderr",
     "output_type": "stream",
     "text": [
      " 14%|█▍        | 1401/10000 [08:18<50:57,  2.81it/s]"
     ]
    },
    {
     "name": "stdout",
     "output_type": "stream",
     "text": [
      "Training loss: 0.39277997612953186\n",
      "Testing loss: 0.3767212927341461\n"
     ]
    },
    {
     "name": "stderr",
     "output_type": "stream",
     "text": [
      " 16%|█▌        | 1601/10000 [09:29<52:01,  2.69it/s]"
     ]
    },
    {
     "name": "stdout",
     "output_type": "stream",
     "text": [
      "Training loss: 0.3900764286518097\n",
      "Testing loss: 0.3751850724220276\n"
     ]
    },
    {
     "name": "stderr",
     "output_type": "stream",
     "text": [
      " 17%|█▋        | 1701/10000 [10:05<48:16,  2.87it/s]"
     ]
    },
    {
     "name": "stdout",
     "output_type": "stream",
     "text": [
      "Training loss: 0.38888201117515564\n",
      "Testing loss: 0.37455302476882935\n"
     ]
    },
    {
     "name": "stderr",
     "output_type": "stream",
     "text": [
      " 19%|█▉        | 1901/10000 [11:16<49:26,  2.73it/s]"
     ]
    },
    {
     "name": "stdout",
     "output_type": "stream",
     "text": [
      "Training loss: 0.38688868284225464\n",
      "Testing loss: 0.37344351410865784\n"
     ]
    },
    {
     "name": "stderr",
     "output_type": "stream",
     "text": [
      " 20%|██        | 2001/10000 [11:52<45:43,  2.92it/s]"
     ]
    },
    {
     "name": "stdout",
     "output_type": "stream",
     "text": [
      "Training loss: 0.38601821660995483\n",
      "Testing loss: 0.3729109764099121\n"
     ]
    },
    {
     "name": "stderr",
     "output_type": "stream",
     "text": [
      " 21%|██        | 2101/10000 [12:28<47:17,  2.78it/s]"
     ]
    },
    {
     "name": "stdout",
     "output_type": "stream",
     "text": [
      "Training loss: 0.38519349694252014\n",
      "Testing loss: 0.3723355233669281\n"
     ]
    },
    {
     "name": "stderr",
     "output_type": "stream",
     "text": [
      " 22%|██▏       | 2201/10000 [13:04<45:29,  2.86it/s]"
     ]
    },
    {
     "name": "stdout",
     "output_type": "stream",
     "text": [
      "Training loss: 0.3844228684902191\n",
      "Testing loss: 0.3718632757663727\n"
     ]
    },
    {
     "name": "stderr",
     "output_type": "stream",
     "text": [
      " 23%|██▎       | 2301/10000 [13:40<46:33,  2.76it/s]"
     ]
    },
    {
     "name": "stdout",
     "output_type": "stream",
     "text": [
      "Training loss: 0.38375142216682434\n",
      "Testing loss: 0.3714633882045746\n"
     ]
    },
    {
     "name": "stderr",
     "output_type": "stream",
     "text": [
      " 24%|██▍       | 2401/10000 [14:15<46:11,  2.74it/s]"
     ]
    },
    {
     "name": "stdout",
     "output_type": "stream",
     "text": [
      "Training loss: 0.3831177055835724\n",
      "Testing loss: 0.3710906505584717\n"
     ]
    },
    {
     "name": "stderr",
     "output_type": "stream",
     "text": [
      " 25%|██▌       | 2501/10000 [14:51<41:56,  2.98it/s]"
     ]
    },
    {
     "name": "stdout",
     "output_type": "stream",
     "text": [
      "Training loss: 0.3825947940349579\n",
      "Testing loss: 0.3710826337337494\n"
     ]
    },
    {
     "name": "stderr",
     "output_type": "stream",
     "text": [
      " 26%|██▌       | 2601/10000 [15:26<44:14,  2.79it/s]"
     ]
    },
    {
     "name": "stdout",
     "output_type": "stream",
     "text": [
      "Training loss: 0.3819925785064697\n",
      "Testing loss: 0.3704615533351898\n"
     ]
    },
    {
     "name": "stderr",
     "output_type": "stream",
     "text": [
      " 27%|██▋       | 2701/10000 [16:02<45:18,  2.69it/s]"
     ]
    },
    {
     "name": "stdout",
     "output_type": "stream",
     "text": [
      "Training loss: 0.38147443532943726\n",
      "Testing loss: 0.3701893985271454\n"
     ]
    },
    {
     "name": "stderr",
     "output_type": "stream",
     "text": [
      " 28%|██▊       | 2801/10000 [16:38<40:21,  2.97it/s]"
     ]
    },
    {
     "name": "stdout",
     "output_type": "stream",
     "text": [
      "Training loss: 0.3809804618358612\n",
      "Testing loss: 0.369965523481369\n"
     ]
    },
    {
     "name": "stderr",
     "output_type": "stream",
     "text": [
      " 29%|██▉       | 2901/10000 [17:13<42:49,  2.76it/s]"
     ]
    },
    {
     "name": "stdout",
     "output_type": "stream",
     "text": [
      "Training loss: 0.3805215060710907\n",
      "Testing loss: 0.3697221577167511\n"
     ]
    },
    {
     "name": "stderr",
     "output_type": "stream",
     "text": [
      " 30%|███       | 3001/10000 [17:49<42:17,  2.76it/s]"
     ]
    },
    {
     "name": "stdout",
     "output_type": "stream",
     "text": [
      "Training loss: 0.38060641288757324\n",
      "Testing loss: 0.37025347352027893\n"
     ]
    },
    {
     "name": "stderr",
     "output_type": "stream",
     "text": [
      " 31%|███       | 3101/10000 [18:24<40:13,  2.86it/s]"
     ]
    },
    {
     "name": "stdout",
     "output_type": "stream",
     "text": [
      "Training loss: 0.379647821187973\n",
      "Testing loss: 0.3693101108074188\n"
     ]
    },
    {
     "name": "stderr",
     "output_type": "stream",
     "text": [
      " 32%|███▏      | 3201/10000 [19:00<39:50,  2.84it/s]"
     ]
    },
    {
     "name": "stdout",
     "output_type": "stream",
     "text": [
      "Training loss: 0.37922748923301697\n",
      "Testing loss: 0.3691261112689972\n"
     ]
    },
    {
     "name": "stderr",
     "output_type": "stream",
     "text": [
      " 33%|███▎      | 3301/10000 [19:35<39:03,  2.86it/s]"
     ]
    },
    {
     "name": "stdout",
     "output_type": "stream",
     "text": [
      "Training loss: 0.37881237268447876\n",
      "Testing loss: 0.3689388632774353\n"
     ]
    },
    {
     "name": "stderr",
     "output_type": "stream",
     "text": [
      " 34%|███▍      | 3401/10000 [20:11<39:03,  2.82it/s]"
     ]
    },
    {
     "name": "stdout",
     "output_type": "stream",
     "text": [
      "Training loss: 0.3783932328224182\n",
      "Testing loss: 0.3688707947731018\n"
     ]
    },
    {
     "name": "stderr",
     "output_type": "stream",
     "text": [
      " 35%|███▌      | 3501/10000 [20:47<38:12,  2.83it/s]"
     ]
    },
    {
     "name": "stdout",
     "output_type": "stream",
     "text": [
      "Training loss: 0.3787841498851776\n",
      "Testing loss: 0.36892756819725037\n"
     ]
    },
    {
     "name": "stderr",
     "output_type": "stream",
     "text": [
      " 36%|███▌      | 3601/10000 [21:22<38:32,  2.77it/s]"
     ]
    },
    {
     "name": "stdout",
     "output_type": "stream",
     "text": [
      "Training loss: 0.3776698708534241\n",
      "Testing loss: 0.36871811747550964\n"
     ]
    },
    {
     "name": "stderr",
     "output_type": "stream",
     "text": [
      " 37%|███▋      | 3701/10000 [21:58<38:39,  2.72it/s]"
     ]
    },
    {
     "name": "stdout",
     "output_type": "stream",
     "text": [
      "Training loss: 0.3773338794708252\n",
      "Testing loss: 0.3686498701572418\n"
     ]
    },
    {
     "name": "stderr",
     "output_type": "stream",
     "text": [
      " 38%|███▊      | 3801/10000 [22:33<39:49,  2.59it/s]"
     ]
    },
    {
     "name": "stdout",
     "output_type": "stream",
     "text": [
      "Training loss: 0.37703242897987366\n",
      "Testing loss: 0.3685665428638458\n"
     ]
    },
    {
     "name": "stderr",
     "output_type": "stream",
     "text": [
      " 39%|███▉      | 3901/10000 [23:08<35:57,  2.83it/s]"
     ]
    },
    {
     "name": "stdout",
     "output_type": "stream",
     "text": [
      "Training loss: 0.37672001123428345\n",
      "Testing loss: 0.3685436546802521\n"
     ]
    },
    {
     "name": "stderr",
     "output_type": "stream",
     "text": [
      " 40%|████      | 4001/10000 [23:44<34:13,  2.92it/s]"
     ]
    },
    {
     "name": "stdout",
     "output_type": "stream",
     "text": [
      "Training loss: 0.3766272962093353\n",
      "Testing loss: 0.3687886893749237\n"
     ]
    },
    {
     "name": "stderr",
     "output_type": "stream",
     "text": [
      " 41%|████      | 4101/10000 [24:20<34:47,  2.83it/s]"
     ]
    },
    {
     "name": "stdout",
     "output_type": "stream",
     "text": [
      "Training loss: 0.37616315484046936\n",
      "Testing loss: 0.368480384349823\n"
     ]
    },
    {
     "name": "stderr",
     "output_type": "stream",
     "text": [
      " 42%|████▏     | 4201/10000 [24:55<35:36,  2.71it/s]"
     ]
    },
    {
     "name": "stdout",
     "output_type": "stream",
     "text": [
      "Training loss: 0.3759009838104248\n",
      "Testing loss: 0.36847397685050964\n"
     ]
    },
    {
     "name": "stderr",
     "output_type": "stream",
     "text": [
      " 43%|████▎     | 4301/10000 [25:31<35:46,  2.66it/s]"
     ]
    },
    {
     "name": "stdout",
     "output_type": "stream",
     "text": [
      "Training loss: 0.3756312429904938\n",
      "Testing loss: 0.36847519874572754\n"
     ]
    },
    {
     "name": "stderr",
     "output_type": "stream",
     "text": [
      " 44%|████▍     | 4401/10000 [26:06<33:28,  2.79it/s]"
     ]
    },
    {
     "name": "stdout",
     "output_type": "stream",
     "text": [
      "Training loss: 0.37539058923721313\n",
      "Testing loss: 0.3684680461883545\n"
     ]
    },
    {
     "name": "stderr",
     "output_type": "stream",
     "text": [
      " 45%|████▌     | 4501/10000 [26:41<31:50,  2.88it/s]"
     ]
    },
    {
     "name": "stdout",
     "output_type": "stream",
     "text": [
      "Training loss: 0.37514591217041016\n",
      "Testing loss: 0.36847543716430664\n"
     ]
    },
    {
     "name": "stderr",
     "output_type": "stream",
     "text": [
      " 46%|████▌     | 4601/10000 [27:17<31:11,  2.89it/s]"
     ]
    },
    {
     "name": "stdout",
     "output_type": "stream",
     "text": [
      "Training loss: 0.3763253688812256\n",
      "Testing loss: 0.3710669279098511\n"
     ]
    },
    {
     "name": "stderr",
     "output_type": "stream",
     "text": [
      " 47%|████▋     | 4701/10000 [27:52<32:28,  2.72it/s]"
     ]
    },
    {
     "name": "stdout",
     "output_type": "stream",
     "text": [
      "Training loss: 0.37463852763175964\n",
      "Testing loss: 0.36849600076675415\n"
     ]
    },
    {
     "name": "stderr",
     "output_type": "stream",
     "text": [
      " 48%|████▊     | 4801/10000 [28:28<30:44,  2.82it/s]"
     ]
    },
    {
     "name": "stdout",
     "output_type": "stream",
     "text": [
      "Training loss: 0.37440380454063416\n",
      "Testing loss: 0.3685078024864197\n"
     ]
    },
    {
     "name": "stderr",
     "output_type": "stream",
     "text": [
      " 49%|████▉     | 4901/10000 [29:03<30:42,  2.77it/s]"
     ]
    },
    {
     "name": "stdout",
     "output_type": "stream",
     "text": [
      "Training loss: 0.37427279353141785\n",
      "Testing loss: 0.36858683824539185\n"
     ]
    },
    {
     "name": "stderr",
     "output_type": "stream",
     "text": [
      " 50%|█████     | 5001/10000 [29:38<29:00,  2.87it/s]"
     ]
    },
    {
     "name": "stdout",
     "output_type": "stream",
     "text": [
      "Training loss: 0.37396812438964844\n",
      "Testing loss: 0.368507444858551\n"
     ]
    },
    {
     "name": "stderr",
     "output_type": "stream",
     "text": [
      " 51%|█████     | 5101/10000 [30:14<29:21,  2.78it/s]"
     ]
    },
    {
     "name": "stdout",
     "output_type": "stream",
     "text": [
      "Training loss: 0.37375494837760925\n",
      "Testing loss: 0.36851006746292114\n"
     ]
    },
    {
     "name": "stderr",
     "output_type": "stream",
     "text": [
      " 52%|█████▏    | 5201/10000 [30:49<28:16,  2.83it/s]"
     ]
    },
    {
     "name": "stdout",
     "output_type": "stream",
     "text": [
      "Training loss: 0.37355926632881165\n",
      "Testing loss: 0.36850547790527344\n"
     ]
    },
    {
     "name": "stderr",
     "output_type": "stream",
     "text": [
      " 53%|█████▎    | 5301/10000 [31:24<25:55,  3.02it/s]"
     ]
    },
    {
     "name": "stdout",
     "output_type": "stream",
     "text": [
      "Training loss: 0.373360812664032\n",
      "Testing loss: 0.36851486563682556\n"
     ]
    },
    {
     "name": "stderr",
     "output_type": "stream",
     "text": [
      " 54%|█████▍    | 5401/10000 [32:00<26:31,  2.89it/s]"
     ]
    },
    {
     "name": "stdout",
     "output_type": "stream",
     "text": [
      "Training loss: 0.3740957975387573\n",
      "Testing loss: 0.36875662207603455\n"
     ]
    },
    {
     "name": "stderr",
     "output_type": "stream",
     "text": [
      " 55%|█████▌    | 5501/10000 [32:35<26:15,  2.85it/s]"
     ]
    },
    {
     "name": "stdout",
     "output_type": "stream",
     "text": [
      "Training loss: 0.37297114729881287\n",
      "Testing loss: 0.36849460005760193\n"
     ]
    },
    {
     "name": "stderr",
     "output_type": "stream",
     "text": [
      " 56%|█████▌    | 5601/10000 [33:11<27:27,  2.67it/s]"
     ]
    },
    {
     "name": "stdout",
     "output_type": "stream",
     "text": [
      "Training loss: 0.37277549505233765\n",
      "Testing loss: 0.3685016334056854\n"
     ]
    },
    {
     "name": "stderr",
     "output_type": "stream",
     "text": [
      " 57%|█████▋    | 5701/10000 [33:46<24:58,  2.87it/s]"
     ]
    },
    {
     "name": "stdout",
     "output_type": "stream",
     "text": [
      "Training loss: 0.3725890815258026\n",
      "Testing loss: 0.36846673488616943\n"
     ]
    },
    {
     "name": "stderr",
     "output_type": "stream",
     "text": [
      " 58%|█████▊    | 5801/10000 [34:22<24:32,  2.85it/s]"
     ]
    },
    {
     "name": "stdout",
     "output_type": "stream",
     "text": [
      "Training loss: 0.3724072277545929\n",
      "Testing loss: 0.3684818148612976\n"
     ]
    },
    {
     "name": "stderr",
     "output_type": "stream",
     "text": [
      " 59%|█████▉    | 5901/10000 [34:58<25:18,  2.70it/s]"
     ]
    },
    {
     "name": "stdout",
     "output_type": "stream",
     "text": [
      "Training loss: 0.3722202479839325\n",
      "Testing loss: 0.36849445104599\n"
     ]
    },
    {
     "name": "stderr",
     "output_type": "stream",
     "text": [
      " 60%|██████    | 6001/10000 [35:33<23:47,  2.80it/s]"
     ]
    },
    {
     "name": "stdout",
     "output_type": "stream",
     "text": [
      "Training loss: 0.3720431625843048\n",
      "Testing loss: 0.3684445321559906\n"
     ]
    },
    {
     "name": "stderr",
     "output_type": "stream",
     "text": [
      " 61%|██████    | 6101/10000 [36:09<22:35,  2.88it/s]"
     ]
    },
    {
     "name": "stdout",
     "output_type": "stream",
     "text": [
      "Training loss: 0.3718603253364563\n",
      "Testing loss: 0.3684447705745697\n"
     ]
    },
    {
     "name": "stderr",
     "output_type": "stream",
     "text": [
      " 62%|██████▏   | 6201/10000 [36:44<21:28,  2.95it/s]"
     ]
    },
    {
     "name": "stdout",
     "output_type": "stream",
     "text": [
      "Training loss: 0.37169891595840454\n",
      "Testing loss: 0.3684428334236145\n"
     ]
    },
    {
     "name": "stderr",
     "output_type": "stream",
     "text": [
      " 63%|██████▎   | 6301/10000 [37:19<21:20,  2.89it/s]"
     ]
    },
    {
     "name": "stdout",
     "output_type": "stream",
     "text": [
      "Training loss: 0.37150198221206665\n",
      "Testing loss: 0.3684423267841339\n"
     ]
    },
    {
     "name": "stderr",
     "output_type": "stream",
     "text": [
      " 64%|██████▍   | 6401/10000 [37:55<21:20,  2.81it/s]"
     ]
    },
    {
     "name": "stdout",
     "output_type": "stream",
     "text": [
      "Training loss: 0.3721151649951935\n",
      "Testing loss: 0.3694412112236023\n"
     ]
    },
    {
     "name": "stderr",
     "output_type": "stream",
     "text": [
      " 65%|██████▌   | 6501/10000 [38:30<20:04,  2.90it/s]"
     ]
    },
    {
     "name": "stdout",
     "output_type": "stream",
     "text": [
      "Training loss: 0.37114617228507996\n",
      "Testing loss: 0.36844587326049805\n"
     ]
    },
    {
     "name": "stderr",
     "output_type": "stream",
     "text": [
      " 66%|██████▌   | 6601/10000 [39:06<20:48,  2.72it/s]"
     ]
    },
    {
     "name": "stdout",
     "output_type": "stream",
     "text": [
      "Training loss: 0.37096482515335083\n",
      "Testing loss: 0.36846739053726196\n"
     ]
    },
    {
     "name": "stderr",
     "output_type": "stream",
     "text": [
      " 67%|██████▋   | 6701/10000 [39:41<20:07,  2.73it/s]"
     ]
    },
    {
     "name": "stdout",
     "output_type": "stream",
     "text": [
      "Training loss: 0.37079960107803345\n",
      "Testing loss: 0.3685048222541809\n"
     ]
    },
    {
     "name": "stderr",
     "output_type": "stream",
     "text": [
      " 68%|██████▊   | 6801/10000 [40:17<18:26,  2.89it/s]"
     ]
    },
    {
     "name": "stdout",
     "output_type": "stream",
     "text": [
      "Training loss: 0.37062007188796997\n",
      "Testing loss: 0.36847764253616333\n"
     ]
    },
    {
     "name": "stderr",
     "output_type": "stream",
     "text": [
      " 69%|██████▉   | 6901/10000 [40:53<17:26,  2.96it/s]"
     ]
    },
    {
     "name": "stdout",
     "output_type": "stream",
     "text": [
      "Training loss: 0.3708796203136444\n",
      "Testing loss: 0.3685731291770935\n"
     ]
    },
    {
     "name": "stderr",
     "output_type": "stream",
     "text": [
      " 70%|███████   | 7001/10000 [41:28<16:45,  2.98it/s]"
     ]
    },
    {
     "name": "stdout",
     "output_type": "stream",
     "text": [
      "Training loss: 0.37029075622558594\n",
      "Testing loss: 0.3684837520122528\n"
     ]
    },
    {
     "name": "stderr",
     "output_type": "stream",
     "text": [
      " 71%|███████   | 7101/10000 [42:04<17:50,  2.71it/s]"
     ]
    },
    {
     "name": "stdout",
     "output_type": "stream",
     "text": [
      "Training loss: 0.37012389302253723\n",
      "Testing loss: 0.3685140311717987\n"
     ]
    },
    {
     "name": "stderr",
     "output_type": "stream",
     "text": [
      " 72%|███████▏  | 7201/10000 [42:39<17:05,  2.73it/s]"
     ]
    },
    {
     "name": "stdout",
     "output_type": "stream",
     "text": [
      "Training loss: 0.3700970411300659\n",
      "Testing loss: 0.36936911940574646\n"
     ]
    },
    {
     "name": "stderr",
     "output_type": "stream",
     "text": [
      " 73%|███████▎  | 7301/10000 [43:15<16:49,  2.67it/s]"
     ]
    },
    {
     "name": "stdout",
     "output_type": "stream",
     "text": [
      "Training loss: 0.36979568004608154\n",
      "Testing loss: 0.3685391843318939\n"
     ]
    },
    {
     "name": "stderr",
     "output_type": "stream",
     "text": [
      " 74%|███████▍  | 7401/10000 [43:50<15:45,  2.75it/s]"
     ]
    },
    {
     "name": "stdout",
     "output_type": "stream",
     "text": [
      "Training loss: 0.36962783336639404\n",
      "Testing loss: 0.36857864260673523\n"
     ]
    },
    {
     "name": "stderr",
     "output_type": "stream",
     "text": [
      " 75%|███████▌  | 7501/10000 [44:25<14:44,  2.82it/s]"
     ]
    },
    {
     "name": "stdout",
     "output_type": "stream",
     "text": [
      "Training loss: 0.36946842074394226\n",
      "Testing loss: 0.36856886744499207\n"
     ]
    },
    {
     "name": "stderr",
     "output_type": "stream",
     "text": [
      " 76%|███████▌  | 7601/10000 [45:01<13:22,  2.99it/s]"
     ]
    },
    {
     "name": "stdout",
     "output_type": "stream",
     "text": [
      "Training loss: 0.36928999423980713\n",
      "Testing loss: 0.3686386048793793\n"
     ]
    },
    {
     "name": "stderr",
     "output_type": "stream",
     "text": [
      " 77%|███████▋  | 7701/10000 [45:36<14:11,  2.70it/s]"
     ]
    },
    {
     "name": "stdout",
     "output_type": "stream",
     "text": [
      "Training loss: 0.36912277340888977\n",
      "Testing loss: 0.3687869906425476\n"
     ]
    },
    {
     "name": "stderr",
     "output_type": "stream",
     "text": [
      " 78%|███████▊  | 7801/10000 [46:12<13:13,  2.77it/s]"
     ]
    },
    {
     "name": "stdout",
     "output_type": "stream",
     "text": [
      "Training loss: 0.3689476549625397\n",
      "Testing loss: 0.36871597170829773\n"
     ]
    },
    {
     "name": "stderr",
     "output_type": "stream",
     "text": [
      " 79%|███████▉  | 7901/10000 [46:47<12:41,  2.76it/s]"
     ]
    },
    {
     "name": "stdout",
     "output_type": "stream",
     "text": [
      "Training loss: 0.3687781095504761\n",
      "Testing loss: 0.36879971623420715\n"
     ]
    },
    {
     "name": "stderr",
     "output_type": "stream",
     "text": [
      " 80%|████████  | 8001/10000 [47:23<12:06,  2.75it/s]"
     ]
    },
    {
     "name": "stdout",
     "output_type": "stream",
     "text": [
      "Training loss: 0.3685983121395111\n",
      "Testing loss: 0.3688943684101105\n"
     ]
    },
    {
     "name": "stderr",
     "output_type": "stream",
     "text": [
      " 81%|████████  | 8101/10000 [47:59<11:54,  2.66it/s]"
     ]
    },
    {
     "name": "stdout",
     "output_type": "stream",
     "text": [
      "Training loss: 0.36843061447143555\n",
      "Testing loss: 0.3689413070678711\n"
     ]
    },
    {
     "name": "stderr",
     "output_type": "stream",
     "text": [
      " 82%|████████▏ | 8201/10000 [48:34<10:24,  2.88it/s]"
     ]
    },
    {
     "name": "stdout",
     "output_type": "stream",
     "text": [
      "Training loss: 0.3682593107223511\n",
      "Testing loss: 0.36903420090675354\n"
     ]
    },
    {
     "name": "stderr",
     "output_type": "stream",
     "text": [
      " 83%|████████▎ | 8301/10000 [49:10<10:20,  2.74it/s]"
     ]
    },
    {
     "name": "stdout",
     "output_type": "stream",
     "text": [
      "Training loss: 0.3681250810623169\n",
      "Testing loss: 0.36903655529022217\n"
     ]
    },
    {
     "name": "stderr",
     "output_type": "stream",
     "text": [
      " 84%|████████▍ | 8401/10000 [49:45<09:50,  2.71it/s]"
     ]
    },
    {
     "name": "stdout",
     "output_type": "stream",
     "text": [
      "Training loss: 0.3679257333278656\n",
      "Testing loss: 0.36918210983276367\n"
     ]
    },
    {
     "name": "stderr",
     "output_type": "stream",
     "text": [
      " 85%|████████▌ | 8501/10000 [50:21<08:34,  2.91it/s]"
     ]
    },
    {
     "name": "stdout",
     "output_type": "stream",
     "text": [
      "Training loss: 0.3685164153575897\n",
      "Testing loss: 0.37005478143692017\n"
     ]
    },
    {
     "name": "stderr",
     "output_type": "stream",
     "text": [
      " 86%|████████▌ | 8601/10000 [50:56<08:33,  2.73it/s]"
     ]
    },
    {
     "name": "stdout",
     "output_type": "stream",
     "text": [
      "Training loss: 0.3675999045372009\n",
      "Testing loss: 0.36931735277175903\n"
     ]
    },
    {
     "name": "stderr",
     "output_type": "stream",
     "text": [
      " 87%|████████▋ | 8701/10000 [51:32<07:57,  2.72it/s]"
     ]
    },
    {
     "name": "stdout",
     "output_type": "stream",
     "text": [
      "Training loss: 0.3674386143684387\n",
      "Testing loss: 0.36938953399658203\n"
     ]
    },
    {
     "name": "stderr",
     "output_type": "stream",
     "text": [
      " 88%|████████▊ | 8801/10000 [52:08<06:58,  2.87it/s]"
     ]
    },
    {
     "name": "stdout",
     "output_type": "stream",
     "text": [
      "Training loss: 0.36773666739463806\n",
      "Testing loss: 0.3706035017967224\n"
     ]
    },
    {
     "name": "stderr",
     "output_type": "stream",
     "text": [
      " 89%|████████▉ | 8901/10000 [52:43<06:21,  2.88it/s]"
     ]
    },
    {
     "name": "stdout",
     "output_type": "stream",
     "text": [
      "Training loss: 0.36712881922721863\n",
      "Testing loss: 0.36951300501823425\n"
     ]
    },
    {
     "name": "stderr",
     "output_type": "stream",
     "text": [
      " 90%|█████████ | 9001/10000 [53:19<05:54,  2.82it/s]"
     ]
    },
    {
     "name": "stdout",
     "output_type": "stream",
     "text": [
      "Training loss: 0.36697572469711304\n",
      "Testing loss: 0.36958932876586914\n"
     ]
    },
    {
     "name": "stderr",
     "output_type": "stream",
     "text": [
      " 91%|█████████ | 9101/10000 [53:54<05:26,  2.76it/s]"
     ]
    },
    {
     "name": "stdout",
     "output_type": "stream",
     "text": [
      "Training loss: 0.36685261130332947\n",
      "Testing loss: 0.36975985765457153\n"
     ]
    },
    {
     "name": "stderr",
     "output_type": "stream",
     "text": [
      " 92%|█████████▏| 9201/10000 [54:29<05:00,  2.66it/s]"
     ]
    },
    {
     "name": "stdout",
     "output_type": "stream",
     "text": [
      "Training loss: 0.3666819632053375\n",
      "Testing loss: 0.36970487236976624\n"
     ]
    },
    {
     "name": "stderr",
     "output_type": "stream",
     "text": [
      " 93%|█████████▎| 9301/10000 [55:05<04:04,  2.86it/s]"
     ]
    },
    {
     "name": "stdout",
     "output_type": "stream",
     "text": [
      "Training loss: 0.3665861487388611\n",
      "Testing loss: 0.36973869800567627\n"
     ]
    },
    {
     "name": "stderr",
     "output_type": "stream",
     "text": [
      " 94%|█████████▍| 9401/10000 [55:40<03:23,  2.94it/s]"
     ]
    },
    {
     "name": "stdout",
     "output_type": "stream",
     "text": [
      "Training loss: 0.3664065897464752\n",
      "Testing loss: 0.36981743574142456\n"
     ]
    },
    {
     "name": "stderr",
     "output_type": "stream",
     "text": [
      " 95%|█████████▌| 9501/10000 [56:16<02:47,  2.97it/s]"
     ]
    },
    {
     "name": "stdout",
     "output_type": "stream",
     "text": [
      "Training loss: 0.3662739396095276\n",
      "Testing loss: 0.3698887825012207\n"
     ]
    },
    {
     "name": "stderr",
     "output_type": "stream",
     "text": [
      " 96%|█████████▌| 9601/10000 [56:51<02:20,  2.84it/s]"
     ]
    },
    {
     "name": "stdout",
     "output_type": "stream",
     "text": [
      "Training loss: 0.3661373555660248\n",
      "Testing loss: 0.36996743083000183\n"
     ]
    },
    {
     "name": "stderr",
     "output_type": "stream",
     "text": [
      " 97%|█████████▋| 9701/10000 [57:27<01:47,  2.78it/s]"
     ]
    },
    {
     "name": "stdout",
     "output_type": "stream",
     "text": [
      "Training loss: 0.36601170897483826\n",
      "Testing loss: 0.3699497580528259\n"
     ]
    },
    {
     "name": "stderr",
     "output_type": "stream",
     "text": [
      " 98%|█████████▊| 9801/10000 [58:02<01:11,  2.77it/s]"
     ]
    },
    {
     "name": "stdout",
     "output_type": "stream",
     "text": [
      "Training loss: 0.36588054895401\n",
      "Testing loss: 0.3700923025608063\n"
     ]
    },
    {
     "name": "stderr",
     "output_type": "stream",
     "text": [
      " 99%|█████████▉| 9901/10000 [58:38<00:35,  2.81it/s]"
     ]
    },
    {
     "name": "stdout",
     "output_type": "stream",
     "text": [
      "Training loss: 0.36575615406036377\n",
      "Testing loss: 0.3704265058040619\n"
     ]
    },
    {
     "name": "stderr",
     "output_type": "stream",
     "text": [
      "100%|██████████| 10000/10000 [59:13<00:00,  2.81it/s]\n"
     ]
    }
   ],
   "source": [
    "training_stats = []\n",
    "testing_stats = []\n",
    "for i in tqdm(np.arange(num_epochs)):\n",
    "    mse_loss = []\n",
    "    for features,target in training_loader:\n",
    "        optimizer.zero_grad()\n",
    "\n",
    "        # features = features.to(device)\n",
    "        # target = target.to(device)\n",
    "\n",
    "        predictions = Redshift_model(features)\n",
    "\n",
    "        loss = loss_fn(target, predictions)\n",
    "        \n",
    "        loss.backward()\n",
    "        optimizer.step()\n",
    "\n",
    "        mse_loss.append(loss.detach().cpu().numpy())\n",
    "    training_stats.append(np.mean(mse_loss))\n",
    "    with torch.no_grad():\n",
    "        mse_loss = []\n",
    "        for features,target in test_loader:\n",
    "            # features = features.to(device)\n",
    "            # target = target.to(device)\n",
    "\n",
    "            predictions = Redshift_model(features)\n",
    "\n",
    "            loss = loss_fn(target, predictions)\n",
    "            mse_loss.append(loss.detach().cpu().numpy())\n",
    "        \n",
    "        testing_stats.append(np.mean(mse_loss))\n",
    "    if i%100==0:\n",
    "        print(f\"Training loss: {training_stats[-1]}\")\n",
    "        print(f\"Testing loss: {testing_stats[-1]}\")"
   ]
  },
  {
   "cell_type": "code",
   "execution_count": 32,
   "metadata": {
    "id": "xIDIgw_gNLJG"
   },
   "outputs": [
    {
     "data": {
      "text/plain": [
       "[<matplotlib.lines.Line2D at 0x7f079d686ac8>]"
      ]
     },
     "execution_count": 32,
     "metadata": {},
     "output_type": "execute_result"
    },
    {
     "data": {
      "image/png": "[encoded data removed]",
      "text/plain": [
       "<Figure size 432x288 with 1 Axes>"
      ]
     },
     "metadata": {
      "needs_background": "light"
     },
     "output_type": "display_data"
    }
   ],
   "source": [
    "plt.plot(training_stats,'r')\n",
    "plt.plot(testing_stats,'b')"
   ]
  },
  {
   "cell_type": "code",
   "execution_count": 33,
   "metadata": {
    "id": "yJGhAXjxNLSK"
   },
   "outputs": [],
   "source": [
    "xtmp,ytrain_scaled = train_set[:]\n",
    "ytrain_scaled = ytrain_scaled.detach().cpu().numpy()\n",
    "ytrain_pred = Redshift_model(xtmp.to(device)).detach().cpu().numpy()\n",
    "\n",
    "xtmp,ytest_scaled = test_set[:]\n",
    "ytest_scaled = ytest_scaled.detach().cpu().numpy()\n",
    "ytest_pred = Redshift_model(xtmp.to(device)).detach().cpu().numpy()"
   ]
  },
  {
   "cell_type": "code",
   "execution_count": 34,
   "metadata": {
    "id": "m8groAUYP9LI"
   },
   "outputs": [],
   "source": [
    "ytrain_pred = scalery.inverse_transform(ytrain_pred)\n",
    "ytest_pred = scalery.inverse_transform(ytest_pred)\n",
    "\n",
    "ytrain_unscaled = scalery.inverse_transform(ytrain_scaled)\n",
    "ytest_unscaled = scalery.inverse_transform(ytest_scaled)"
   ]
  },
  {
   "cell_type": "code",
   "execution_count": 35,
   "metadata": {
    "colab": {
     "base_uri": "https://localhost:8080/"
    },
    "id": "vwDRLd6hP9LK",
    "outputId": "ac010abe-a4f2-451d-e353-a51545a4ba89"
   },
   "outputs": [
    {
     "name": "stdout",
     "output_type": "stream",
     "text": [
      "Training set statistics\n",
      "Mean square error: 0.17955991625785828\n",
      "Mean absolute percentage error: 1.4118765592575073\n",
      "R2 score: 0.6358737369203818\n"
     ]
    }
   ],
   "source": [
    "print(\"Training set statistics\")\n",
    "Performance(ytrain_unscaled,ytrain_pred)"
   ]
  },
  {
   "cell_type": "code",
   "execution_count": 36,
   "metadata": {
    "colab": {
     "base_uri": "https://localhost:8080/"
    },
    "id": "TgKxUAbiP9LM",
    "outputId": "b6629844-e576-4af2-e0cd-91da0c73c025"
   },
   "outputs": [
    {
     "name": "stdout",
     "output_type": "stream",
     "text": [
      "Testing set statistics\n",
      "Mean square error: 0.18180879950523376\n",
      "Mean absolute percentage error: 3.0428426265716553\n",
      "R2 score: 0.6208955050640239\n"
     ]
    }
   ],
   "source": [
    "print(\"Testing set statistics\")\n",
    "Performance(ytest_unscaled,ytest_pred)"
   ]
  },
  {
   "cell_type": "code",
   "execution_count": 37,
   "metadata": {
    "colab": {
     "base_uri": "https://localhost:8080/",
     "height": 545
    },
    "id": "x9WZo1n1P9LN",
    "outputId": "ba577200-62c6-454e-d897-618580cc4f4e"
   },
   "outputs": [
    {
     "data": {
      "text/plain": [
       "Text(0.5, 1.0, 'Testing set')"
      ]
     },
     "execution_count": 37,
     "metadata": {},
     "output_type": "execute_result"
    },
    {
     "data": {
      "image/png": "[encoded data removed]",
      "text/plain": [
       "<Figure size 432x288 with 1 Axes>"
      ]
     },
     "metadata": {
      "needs_background": "light"
     },
     "output_type": "display_data"
    },
    {
     "data": {
      "image/png": "[encoded data removed]",
      "text/plain": [
       "<Figure size 432x288 with 1 Axes>"
      ]
     },
     "metadata": {
      "needs_background": "light"
     },
     "output_type": "display_data"
    }
   ],
   "source": [
    "Make_scatter_plot(ytrain_unscaled,ytrain_pred)\n",
    "plt.title(\"Training set\")\n",
    "Make_scatter_plot(ytest_unscaled,ytest_pred)\n",
    "plt.title(\"Testing set\")"
   ]
  },
  {
   "cell_type": "code",
   "execution_count": null,
   "metadata": {
    "id": "6nYEbtuSZ3ER"
   },
   "outputs": [],
   "source": []
  }
 ],
 "metadata": {
  "accelerator": "GPU",
  "colab": {
   "include_colab_link": true,
   "name": "Day_2_Regression",
   "provenance": []
  },
  "kernelspec": {
   "display_name": "Python 3",
   "language": "python",
   "name": "python3"
  },
  "language_info": {
   "codemirror_mode": {
    "name": "ipython",
    "version": 3
   },
   "file_extension": ".py",
   "mimetype": "text/x-python",
   "name": "python",
   "nbconvert_exporter": "python",
   "pygments_lexer": "ipython3",
   "version": "3.6.9"
  },
  "widgets": {
   "application/vnd.jupyter.widget-state+json": {
    "1d4d7594c55147c68ca6864d1317ff42": {
     "model_module": "@jupyter-widgets/base",
     "model_name": "LayoutModel",
     "state": {
      "_model_module": "@jupyter-widgets/base",
      "_model_module_version": "1.2.0",
      "_model_name": "LayoutModel",
      "_view_count": null,
      "_view_module": "@jupyter-widgets/base",
      "_view_module_version": "1.2.0",
      "_view_name": "LayoutView",
      "align_content": null,
      "align_items": null,
      "align_self": null,
      "border": null,
      "bottom": null,
      "display": null,
      "flex": null,
      "flex_flow": null,
      "grid_area": null,
      "grid_auto_columns": null,
      "grid_auto_flow": null,
      "grid_auto_rows": null,
      "grid_column": null,
      "grid_gap": null,
      "grid_row": null,
      "grid_template_areas": null,
      "grid_template_columns": null,
      "grid_template_rows": null,
      "height": null,
      "justify_content": null,
      "justify_items": null,
      "left": null,
      "margin": null,
      "max_height": null,
      "max_width": null,
      "min_height": null,
      "min_width": null,
      "object_fit": null,
      "object_position": null,
      "order": null,
      "overflow": null,
      "overflow_x": null,
      "overflow_y": null,
      "padding": null,
      "right": null,
      "top": null,
      "visibility": null,
      "width": null
     }
    },
    "3e9e5e351dcb45ed921afc869cd0485c": {
     "model_module": "@jupyter-widgets/controls",
     "model_name": "FloatProgressModel",
     "state": {
      "_dom_classes": [],
      "_model_module": "@jupyter-widgets/controls",
      "_model_module_version": "1.5.0",
      "_model_name": "FloatProgressModel",
      "_view_count": null,
      "_view_module": "@jupyter-widgets/controls",
      "_view_module_version": "1.5.0",
      "_view_name": "ProgressView",
      "bar_style": "",
      "description": " 52%",
      "description_tooltip": null,
      "layout": "IPY_MODEL_c4e7580c399048238a86e585cd600547",
      "max": 10000,
      "min": 0,
      "orientation": "horizontal",
      "style": "IPY_MODEL_a91c89ded19f423f8f8c7639ccefefe7",
      "value": 5194
     }
    },
    "88ed6344c98947caaa0c28823e813cc0": {
     "model_module": "@jupyter-widgets/controls",
     "model_name": "DescriptionStyleModel",
     "state": {
      "_model_module": "@jupyter-widgets/controls",
      "_model_module_version": "1.5.0",
      "_model_name": "DescriptionStyleModel",
      "_view_count": null,
      "_view_module": "@jupyter-widgets/base",
      "_view_module_version": "1.2.0",
      "_view_name": "StyleView",
      "description_width": ""
     }
    },
    "9092a442ad134983a535162da5b0124c": {
     "model_module": "@jupyter-widgets/controls",
     "model_name": "HBoxModel",
     "state": {
      "_dom_classes": [],
      "_model_module": "@jupyter-widgets/controls",
      "_model_module_version": "1.5.0",
      "_model_name": "HBoxModel",
      "_view_count": null,
      "_view_module": "@jupyter-widgets/controls",
      "_view_module_version": "1.5.0",
      "_view_name": "HBoxView",
      "box_style": "",
      "children": [
       "IPY_MODEL_3e9e5e351dcb45ed921afc869cd0485c",
       "IPY_MODEL_d433f8da496f45a783590ec7192175dd"
      ],
      "layout": "IPY_MODEL_1d4d7594c55147c68ca6864d1317ff42"
     }
    },
    "a91c89ded19f423f8f8c7639ccefefe7": {
     "model_module": "@jupyter-widgets/controls",
     "model_name": "ProgressStyleModel",
     "state": {
      "_model_module": "@jupyter-widgets/controls",
      "_model_module_version": "1.5.0",
      "_model_name": "ProgressStyleModel",
      "_view_count": null,
      "_view_module": "@jupyter-widgets/base",
      "_view_module_version": "1.2.0",
      "_view_name": "StyleView",
      "bar_color": null,
      "description_width": "initial"
     }
    },
    "c2780d3acb284d7297f627a7f9db967f": {
     "model_module": "@jupyter-widgets/base",
     "model_name": "LayoutModel",
     "state": {
      "_model_module": "@jupyter-widgets/base",
      "_model_module_version": "1.2.0",
      "_model_name": "LayoutModel",
      "_view_count": null,
      "_view_module": "@jupyter-widgets/base",
      "_view_module_version": "1.2.0",
      "_view_name": "LayoutView",
      "align_content": null,
      "align_items": null,
      "align_self": null,
      "border": null,
      "bottom": null,
      "display": null,
      "flex": null,
      "flex_flow": null,
      "grid_area": null,
      "grid_auto_columns": null,
      "grid_auto_flow": null,
      "grid_auto_rows": null,
      "grid_column": null,
      "grid_gap": null,
      "grid_row": null,
      "grid_template_areas": null,
      "grid_template_columns": null,
      "grid_template_rows": null,
      "height": null,
      "justify_content": null,
      "justify_items": null,
      "left": null,
      "margin": null,
      "max_height": null,
      "max_width": null,
      "min_height": null,
      "min_width": null,
      "object_fit": null,
      "object_position": null,
      "order": null,
      "overflow": null,
      "overflow_x": null,
      "overflow_y": null,
      "padding": null,
      "right": null,
      "top": null,
      "visibility": null,
      "width": null
     }
    },
    "c4e7580c399048238a86e585cd600547": {
     "model_module": "@jupyter-widgets/base",
     "model_name": "LayoutModel",
     "state": {
      "_model_module": "@jupyter-widgets/base",
      "_model_module_version": "1.2.0",
      "_model_name": "LayoutModel",
      "_view_count": null,
      "_view_module": "@jupyter-widgets/base",
      "_view_module_version": "1.2.0",
      "_view_name": "LayoutView",
      "align_content": null,
      "align_items": null,
      "align_self": null,
      "border": null,
      "bottom": null,
      "display": null,
      "flex": null,
      "flex_flow": null,
      "grid_area": null,
      "grid_auto_columns": null,
      "grid_auto_flow": null,
      "grid_auto_rows": null,
      "grid_column": null,
      "grid_gap": null,
      "grid_row": null,
      "grid_template_areas": null,
      "grid_template_columns": null,
      "grid_template_rows": null,
      "height": null,
      "justify_content": null,
      "justify_items": null,
      "left": null,
      "margin": null,
      "max_height": null,
      "max_width": null,
      "min_height": null,
      "min_width": null,
      "object_fit": null,
      "object_position": null,
      "order": null,
      "overflow": null,
      "overflow_x": null,
      "overflow_y": null,
      "padding": null,
      "right": null,
      "top": null,
      "visibility": null,
      "width": null
     }
    },
    "d433f8da496f45a783590ec7192175dd": {
     "model_module": "@jupyter-widgets/controls",
     "model_name": "HTMLModel",
     "state": {
      "_dom_classes": [],
      "_model_module": "@jupyter-widgets/controls",
      "_model_module_version": "1.5.0",
      "_model_name": "HTMLModel",
      "_view_count": null,
      "_view_module": "@jupyter-widgets/controls",
      "_view_module_version": "1.5.0",
      "_view_name": "HTMLView",
      "description": "",
      "description_tooltip": null,
      "layout": "IPY_MODEL_c2780d3acb284d7297f627a7f9db967f",
      "placeholder": "​",
      "style": "IPY_MODEL_88ed6344c98947caaa0c28823e813cc0",
      "value": " 5194/10000 [45:44&lt;43:59,  1.82it/s]"
     }
    }
   }
  }
 },
 "nbformat": 4,
 "nbformat_minor": 5
}
