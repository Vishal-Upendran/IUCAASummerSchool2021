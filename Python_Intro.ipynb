{
 "cells": [
  {
   "cell_type": "markdown",
   "metadata": {
    "colab_type": "text",
    "id": "view-in-github"
   },
   "source": [
    "<a href=\"https://colab.research.google.com/github/Vishal-Upendran/IUCAASummerSchool2021/blob/main/Python_Intro.ipynb\" target=\"_parent\"><img src=\"https://colab.research.google.com/assets/colab-badge.svg\" alt=\"Open In Colab\"/></a>"
   ]
  },
  {
   "cell_type": "markdown",
   "metadata": {
    "id": "sudden-nerve"
   },
   "source": [
    "## This section gives:\n",
    "\n",
    "<br>\n",
    "\n",
    "<font size=4>\n",
    "    \n",
    "1. Some basic intro to python, and OOP.\n",
    "2. Data types - what is nan? \n",
    "3. Lists, dictionaries, dataframes.\n",
    "4. Numpy.\n",
    "5. Plotting - line, image. \n",
    "6. Different kinds of data.\n",
    "7. Visualize data and show what it means.\n",
    "    \n",
    "</font>"
   ]
  },
  {
   "cell_type": "markdown",
   "metadata": {
    "id": "regional-guarantee"
   },
   "source": [
    "# How variables work"
   ]
  },
  {
   "cell_type": "code",
   "execution_count": null,
   "metadata": {
    "id": "revolutionary-profession",
    "outputId": "ff3ae859-ff2c-432e-bd79-60b7988356a4"
   },
   "outputs": [],
   "source": [
    "x = 5\n",
    "print(x)\n",
    "print(type(x))\n",
    "\n",
    "x = \"IUCAA\"\n",
    "print(x)\n",
    "print(type(x))"
   ]
  },
  {
   "cell_type": "code",
   "execution_count": null,
   "metadata": {
    "id": "specified-representation",
    "outputId": "10899c04-48dd-4302-b136-4907c1fca85b"
   },
   "outputs": [],
   "source": [
    "print(x)\n",
    "print(type(x))"
   ]
  },
  {
   "cell_type": "code",
   "execution_count": null,
   "metadata": {
    "id": "speaking-enzyme",
    "outputId": "1e70c79d-0188-4b30-c3cf-8b477dc12abf"
   },
   "outputs": [],
   "source": [
    "x = [\"Stars\", \"Galaxies\", \"Quasars\"]\n",
    "print(x)\n",
    "print(type(x))"
   ]
  },
  {
   "cell_type": "code",
   "execution_count": null,
   "metadata": {},
   "outputs": [],
   "source": [
    "# Add new element\n",
    "x.append(42)"
   ]
  },
  {
   "cell_type": "code",
   "execution_count": null,
   "metadata": {
    "id": "initial-maintenance",
    "outputId": "991cfa22-ac80-4f49-e2b5-250cdb0bcacc"
   },
   "outputs": [],
   "source": [
    "x = {\"Mass\": 2e30, \"Radius\": 6.9e9, \"Type\": \"G2V\", \"Surface Temperature\": 5778}\n",
    "print(x)\n",
    "print(type(x))"
   ]
  },
  {
   "cell_type": "code",
   "execution_count": null,
   "metadata": {},
   "outputs": [],
   "source": [
    "# Add new element\n",
    "x[\"Luminosity\"] = \"1 solar luminos\""
   ]
  },
  {
   "cell_type": "markdown",
   "metadata": {
    "id": "initial-speaker"
   },
   "source": [
    "# Using functions"
   ]
  },
  {
   "cell_type": "code",
   "execution_count": null,
   "metadata": {
    "id": "royal-writer",
    "outputId": "44a1543c-af4a-4430-d81e-b162225dd3e6"
   },
   "outputs": [],
   "source": [
    "x = 7\n",
    "y = 9\n",
    "z = x+y*(x-1)**3\n",
    "print(z)"
   ]
  },
  {
   "cell_type": "code",
   "execution_count": null,
   "metadata": {
    "id": "animal-dream",
    "scrolled": false
   },
   "outputs": [],
   "source": [
    "def fun(v1,v2):\n",
    "    return v1+v2*(v1-1)**3"
   ]
  },
  {
   "cell_type": "code",
   "execution_count": null,
   "metadata": {
    "id": "seasonal-pursuit",
    "outputId": "8c755386-22c5-4999-ebf6-82317b2d6b37"
   },
   "outputs": [],
   "source": [
    "print(fun(x,y))"
   ]
  },
  {
   "cell_type": "markdown",
   "metadata": {
    "id": "naval-climate"
   },
   "source": [
    "# Objects"
   ]
  },
  {
   "cell_type": "code",
   "execution_count": null,
   "metadata": {
    "id": "academic-joining",
    "outputId": "5cbf9dc8-0868-4607-aafb-e696b1390bc6"
   },
   "outputs": [],
   "source": [
    "x = 2\n",
    "help(x)"
   ]
  },
  {
   "cell_type": "markdown",
   "metadata": {
    "id": "transparent-fireplace"
   },
   "source": [
    "# All variables in python are objects."
   ]
  },
  {
   "cell_type": "markdown",
   "metadata": {
    "id": "tribal-assignment"
   },
   "source": [
    "<font size=4>\n",
    "\n",
    "Every \"variable\" in python has some associated functions.\n",
    "    \n",
    "Possible to have custom data structure?\n",
    "    \n",
    "</font>"
   ]
  },
  {
   "cell_type": "code",
   "execution_count": null,
   "metadata": {
    "id": "southern-equivalent"
   },
   "outputs": [],
   "source": [
    "class number:\n",
    "    def __init__(self,value):\n",
    "        self.value = value\n",
    "    def __add__(self,value):\n",
    "        return number(self.value+value.value)\n",
    "    def __str__(self):\n",
    "        return str(self.value)"
   ]
  },
  {
   "cell_type": "code",
   "execution_count": null,
   "metadata": {
    "id": "consecutive-enough"
   },
   "outputs": [],
   "source": [
    "a = number(2)\n",
    "b = number(3)"
   ]
  },
  {
   "cell_type": "code",
   "execution_count": null,
   "metadata": {
    "id": "widespread-exploration",
    "outputId": "2895f889-76fa-4e12-b953-0ca85af377ea"
   },
   "outputs": [],
   "source": [
    "c = a+b\n",
    "print(c)"
   ]
  },
  {
   "cell_type": "markdown",
   "metadata": {},
   "source": [
    "# Inheritance"
   ]
  },
  {
   "cell_type": "code",
   "execution_count": null,
   "metadata": {},
   "outputs": [],
   "source": [
    "class Celestial:\n",
    "    def __init__(self,ra,dec,distance):\n",
    "        self.ra = ra\n",
    "        self.dec = dec\n",
    "        self.distance = distance\n",
    "        \n",
    "class Star(Celestial):\n",
    "    def __init__(self,ra,dec,startype,distance):\n",
    "        super(Star,self).__init__(ra,dec,distance)\n",
    "        self.startype=startype\n",
    "    def info(self):\n",
    "        print(f\"A Star of type {self.startype}\")\n",
    "        print(f\"Plane of sky position:{self.ra} deg,{self.dec} deg\")\n",
    "        print(f\"Distance from Earth: {self.distance} pc\")"
   ]
  },
  {
   "cell_type": "code",
   "execution_count": null,
   "metadata": {},
   "outputs": [],
   "source": [
    "sirius = Star(101.2833,-16.7161,\"a1v\",2.64)"
   ]
  },
  {
   "cell_type": "code",
   "execution_count": null,
   "metadata": {},
   "outputs": [],
   "source": [
    "sirius.info()"
   ]
  },
  {
   "cell_type": "markdown",
   "metadata": {
    "id": "jewish-target"
   },
   "source": [
    "# Numerical compute operations"
   ]
  },
  {
   "cell_type": "markdown",
   "metadata": {
    "id": "romantic-gregory"
   },
   "source": [
    "<font size=4>\n",
    "    \n",
    "Scientific workflow needs array manipulation, and work with matrices. How is this done?\n",
    "\n",
    "Use <span style =\"color:#fb8500\">packages</span>\n",
    "    \n",
    "Packages can be thought to be python files which have a bunch of functions. These functions can be called in our script and used on our variables, or \"objects\".\n",
    "    \n",
    "</font>"
   ]
  },
  {
   "cell_type": "markdown",
   "metadata": {
    "id": "descending-theorem"
   },
   "source": [
    "<font size=4>\n",
    "    \n",
    "Package list we will be using:\n",
    "\n",
    "- $\\color{#219ebc}{Numpy}$: Array manipulation, operations and our bread & butter.<br>\n",
    "    \n",
    "    \n",
    "- $\\color{#ffb703}{Matplotlib}$: Visualization - plotting graphs and making images.<br>\n",
    "    \n",
    "\n",
    "- $\\color{#ef476f}{Astropy}$: FITS loading and manipulation.<br>    \n",
    "    \n",
    "\n",
    "- $\\color{#76c893}{Pandas}$: Data loader, and basic data manipulation.<br>\n",
    "\n",
    "-------------------------------\n",
    "\n",
    "- $\\color{#d08c60}{Scikit-learn}$: Machine learning package.<br>\n",
    "    \n",
    "    \n",
    "- $\\color{#dc2f02}{Pytorch}$: Deep learning package.<br>\n",
    "    \n",
    "</font>"
   ]
  },
  {
   "cell_type": "code",
   "execution_count": null,
   "metadata": {
    "id": "whole-moisture"
   },
   "outputs": [],
   "source": [
    "import numpy as np\n",
    "from matplotlib import pyplot as plt "
   ]
  },
  {
   "cell_type": "markdown",
   "metadata": {
    "id": "successful-onion"
   },
   "source": [
    "![matplotlib.jpg](data:image/jpeg;base64,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)"
   ]
  },
  {
   "cell_type": "code",
   "execution_count": null,
   "metadata": {
    "id": "minus-policy",
    "outputId": "99b6e020-7aa5-40b6-d63c-2039dcd27054"
   },
   "outputs": [],
   "source": [
    "x = np.linspace(-50,50,1000)\n",
    "print(x)\n",
    "print(type(x))"
   ]
  },
  {
   "cell_type": "code",
   "execution_count": null,
   "metadata": {
    "id": "meaning-armenia",
    "outputId": "843145ca-5e35-423b-f355-3b2897466912"
   },
   "outputs": [],
   "source": [
    "gauss = np.exp(-x**2/100.0)\n",
    "print(gauss)"
   ]
  },
  {
   "cell_type": "code",
   "execution_count": null,
   "metadata": {
    "id": "rental-origin",
    "outputId": "4019bb23-d442-4761-9881-4487fba32b58"
   },
   "outputs": [],
   "source": [
    "# plt.plot(x,gauss)\n",
    "# plt.plot(x,gauss,color='red')\n",
    "plt.plot(x,gauss,color='red',linestyle='--')\n",
    "plt.xlabel(\"X-value\")\n",
    "plt.ylabel(\"f(x)\")\n",
    "plt.title(\"Gaussian function\")"
   ]
  },
  {
   "cell_type": "markdown",
   "metadata": {
    "id": "random-application"
   },
   "source": [
    "### Image visualization"
   ]
  },
  {
   "cell_type": "markdown",
   "metadata": {
    "id": "chronic-impossible"
   },
   "source": [
    "<font size=4>\n",
    "\n",
    "Let us define a 2-D Gaussian of the form: $$e^{-(x-5)^2/25-(y-5)^2/25}+e^{-(x+5)^2/25-(y+5)^2/25}$$    \n",
    "    \n",
    "</font>"
   ]
  },
  {
   "cell_type": "code",
   "execution_count": null,
   "metadata": {
    "id": "regulated-scale"
   },
   "outputs": [],
   "source": [
    "x = np.linspace(-10,10,1000)\n",
    "y = np.linspace(-10,10,1000)\n",
    "xx,yy = np.meshgrid(x,y)\n",
    "doublegauss = np.exp(-(xx-5)**2/25.0-(yy-5)**2/25.0)+np.exp(-(xx+5)**2/25.0-(yy+5)**2/25.0)"
   ]
  },
  {
   "cell_type": "code",
   "execution_count": null,
   "metadata": {
    "id": "every-scenario",
    "outputId": "5b330be8-3f46-4213-a89b-a0297e976177"
   },
   "outputs": [],
   "source": [
    "plt.imshow(doublegauss,cmap='RdYlBu_r',origin='lower')"
   ]
  },
  {
   "cell_type": "code",
   "execution_count": null,
   "metadata": {
    "id": "premier-arbitration",
    "outputId": "0e41c8b9-4d53-422b-8178-a5313f26daa3"
   },
   "outputs": [],
   "source": [
    "plt.figure(figsize=(10,8))\n",
    "plt.contourf(x,y,doublegauss,100,cmap='RdYlBu_r')\n",
    "plt.colorbar()"
   ]
  },
  {
   "cell_type": "markdown",
   "metadata": {},
   "source": [
    "# Not a number\n",
    "\n",
    "<br>\n",
    "<font size = 4>\n",
    "\n",
    "NaN is a special floating point value meant to reperesent anything that is \"not a number\" or \"not data\".\n",
    " \n",
    " \n",
    "</font>"
   ]
  },
  {
   "cell_type": "code",
   "execution_count": null,
   "metadata": {},
   "outputs": [],
   "source": [
    "n1 = float(\"nan\")\n",
    "n2 = float(\"Nan\")\n",
    "n3 = float(\"NaN\")\n",
    "n4 = float(\"NAN\")\n",
    "n5 = np.nan\n",
    "print(n1, n2, n3, n4,n5)"
   ]
  },
  {
   "cell_type": "code",
   "execution_count": null,
   "metadata": {},
   "outputs": [],
   "source": [
    "print(n1 == 0)\n",
    "print(n1 == 100)\n",
    "print(n2 < 0)"
   ]
  },
  {
   "cell_type": "markdown",
   "metadata": {},
   "source": [
    "## Question:\n",
    "\n",
    "<br>\n",
    "<font size=4>\n",
    "    \n",
    "What is the expected output of n5==n5?\n",
    "\n",
    "\n",
    "</font>"
   ]
  },
  {
   "cell_type": "code",
   "execution_count": null,
   "metadata": {},
   "outputs": [],
   "source": [
    "print(n5 == n5)"
   ]
  },
  {
   "cell_type": "markdown",
   "metadata": {
    "id": "vulnerable-water"
   },
   "source": [
    "# Can we visualize astro data?\n",
    "\n",
    "<br>\n",
    "<font size=4>\n",
    "\n",
    "Astrophysics data is generally available in FITS format. Think of them as a file with multiple \"shelves\".\n",
    "- Each data set - for example, one wavelength of observation - can be put in one shelf. \n",
    "- Each shelf has a \"data\" and a \"header\".\n",
    "    - Header contains information on the satellite, location of object, Field of view, resolution, etc.\n",
    "    - Data contains the actual counts.\n",
    "    \n",
    "We are going to use $\\color{#ef476f}{Astropy}$ for this!\n",
    "    \n",
    "    \n",
    "</font>"
   ]
  },
  {
   "cell_type": "code",
   "execution_count": null,
   "metadata": {
    "id": "impressed-maria"
   },
   "outputs": [],
   "source": [
    "from astropy.io import fits"
   ]
  },
  {
   "cell_type": "markdown",
   "metadata": {
    "id": "2n9NFJ5cbtiA"
   },
   "source": [
    "Data available at: https://www.lmsal.com/hek/hcr?cmd=view-event&event-id=ivo%3A%2F%2Fsot.lmsal.com%2FVOEvent%23VOEvent_IRIS_20141022_081850_3860261381_2014-10-22T08%3A18%3A502014-10-22T08%3A18%3A50.xml"
   ]
  },
  {
   "cell_type": "code",
   "execution_count": null,
   "metadata": {
    "colab": {
     "base_uri": "https://localhost:8080/"
    },
    "id": "dress-indicator",
    "outputId": "be6e39e3-9f9f-4780-db70-2842f9086258"
   },
   "outputs": [],
   "source": [
    "!wget https://www.lmsal.com/solarsoft/irisa/data/level2_compressed/2014/10/22/20141022_081850_3860261381/iris_l2_20141022_081850_3860261381_SDO.tar.gz"
   ]
  },
  {
   "cell_type": "code",
   "execution_count": null,
   "metadata": {},
   "outputs": [],
   "source": [
    "!tar -xvf iris_l2_20141022_081850_3860261381_SDO.tar.gz "
   ]
  },
  {
   "cell_type": "code",
   "execution_count": null,
   "metadata": {
    "colab": {
     "base_uri": "https://localhost:8080/"
    },
    "id": "different-bryan",
    "outputId": "3797157c-d1c7-40ca-f550-d71baa387b14"
   },
   "outputs": [],
   "source": [
    "aia = fits.open(\"aia_l2_20141022_081850_3860261381_171.fits\")\n",
    "print(aia.info())"
   ]
  },
  {
   "cell_type": "code",
   "execution_count": null,
   "metadata": {
    "colab": {
     "base_uri": "https://localhost:8080/"
    },
    "id": "protective-diabetes",
    "outputId": "903260e1-c25b-4a65-c481-c9ea4a22458e",
    "scrolled": true
   },
   "outputs": [],
   "source": [
    "aia[0].header"
   ]
  },
  {
   "cell_type": "code",
   "execution_count": null,
   "metadata": {
    "id": "fiscal-mother"
   },
   "outputs": [],
   "source": [
    "aiadata = aia[0].data\n",
    "aiahead = aia[0].header"
   ]
  },
  {
   "cell_type": "code",
   "execution_count": null,
   "metadata": {
    "colab": {
     "base_uri": "https://localhost:8080/"
    },
    "id": "functioning-sheriff",
    "outputId": "333dfb80-4a2c-42eb-b1b2-09fe7ab000b5"
   },
   "outputs": [],
   "source": [
    "print(aiadata.shape)"
   ]
  },
  {
   "cell_type": "code",
   "execution_count": null,
   "metadata": {
    "id": "monthly-universe"
   },
   "outputs": [],
   "source": [
    "from astropy.wcs import WCS"
   ]
  },
  {
   "cell_type": "code",
   "execution_count": null,
   "metadata": {
    "colab": {
     "base_uri": "https://localhost:8080/"
    },
    "id": "funded-webmaster",
    "outputId": "4af0fb22-6f6f-4cb7-83b1-2f4a51e22e39"
   },
   "outputs": [],
   "source": [
    "wcs  = WCS(aiahead)\n",
    "print(wcs)"
   ]
  },
  {
   "cell_type": "code",
   "execution_count": null,
   "metadata": {
    "colab": {
     "base_uri": "https://localhost:8080/",
     "height": 516
    },
    "id": "russian-thousand",
    "outputId": "c8c217b5-601f-4e3b-d492-03170f149e77"
   },
   "outputs": [],
   "source": [
    "#Plot at first time step.\n",
    "ind = 50\n",
    "plt.figure(figsize=(8,8))\n",
    "plt.subplot(projection = wcs.dropaxis(-1))\n",
    "plt.imshow(np.log10(aiadata[ind]),cmap='Blues_r')"
   ]
  },
  {
   "cell_type": "code",
   "execution_count": null,
   "metadata": {
    "scrolled": false
   },
   "outputs": [],
   "source": [
    "aia1 = fits.open(\"aia_l2_20141022_081850_3860261381_171.fits\")\n",
    "aiadata1 = aia1[0].data\n",
    "wcs1  = WCS(aia1[0].header)\n",
    "\n",
    "aia2 = fits.open(\"aia_l2_20141022_081850_3860261381_1700.fits\")\n",
    "aiadata2 = aia2[0].data\n",
    "wcs2  = WCS(aia2[0].header)\n",
    "\n",
    "index = -50\n",
    "\n",
    "tmp_aiadata1 = np.log10(aiadata1[index])\n",
    "tmp_aiadata2 = np.log10(aiadata2[index])\n",
    "\n",
    "plt.figure(figsize=(10,10))\n",
    "plt.imshow(tmp_aiadata2,origin='lower',cmap='Reds_r',alpha=1.0)\n",
    "plt.imshow(tmp_aiadata1,origin='lower',cmap='Blues_r',alpha=0.7)"
   ]
  },
  {
   "cell_type": "code",
   "execution_count": null,
   "metadata": {},
   "outputs": [],
   "source": [
    "def nanptp(x):\n",
    "    return np.nanmax(x)-np.nanmin(x)"
   ]
  },
  {
   "cell_type": "code",
   "execution_count": null,
   "metadata": {},
   "outputs": [],
   "source": [
    "index = -10\n",
    "\n",
    "aia1 = fits.open(\"aia_l2_20141022_081850_3860261381_171.fits\") # Red\n",
    "aiadata1 = np.log10(aia1[0].data[index])\n",
    "aiadata1 = 255*(aiadata1-np.nanmin(aiadata1))/nanptp(aiadata1)\n",
    "\n",
    "aia2 = fits.open(\"aia_l2_20141022_081850_3860261381_193.fits\") # Green\n",
    "aiadata2 = np.log10(aia2[0].data[index])\n",
    "aiadata2 = 255*(aiadata2-np.nanmin(aiadata2))/nanptp(aiadata2)\n",
    "\n",
    "aia3 = fits.open(\"aia_l2_20141022_081850_3860261381_131.fits\") # Blue\n",
    "aiadata3 = np.log10(aia3[0].data[index])\n",
    "aiadata3 = 255*(aiadata3-np.nanmin(aiadata3))/nanptp(aiadata3)\n",
    "\n",
    "tmp_aiadata = np.asarray([aiadata1,aiadata2,aiadata3]).transpose(1,2,0).astype(int)\n",
    "\n",
    "plt.figure(figsize=(10,10))\n",
    "plt.imshow(tmp_aiadata,origin='lower', interpolation='nearest')"
   ]
  },
  {
   "cell_type": "markdown",
   "metadata": {},
   "source": [
    "# Exercise: Fourier transform\n",
    "\n",
    "<br>\n",
    "<font size=4>\n",
    "    \n",
    "Fourier transform breaks down a signal into sinusoids of various frequencies. This may be done in 1D or 2D or 3D. We now see a cute example of the effect of FFT on an image\n",
    "\n",
    "\n",
    "</font>"
   ]
  },
  {
   "cell_type": "code",
   "execution_count": null,
   "metadata": {},
   "outputs": [],
   "source": [
    "aia1 = fits.open(\"aia_l2_20141022_081850_3860261381_171.fits\")\n",
    "aiadata1 = aia1[0].data\n",
    "wcs1  = WCS(aia1[0].header)"
   ]
  },
  {
   "cell_type": "code",
   "execution_count": null,
   "metadata": {},
   "outputs": [],
   "source": [
    "index = -50\n",
    "\n",
    "tmp_aiadata1 = np.log10(aiadata1[index])\n",
    "\n",
    "plt.figure(figsize=(6,6))\n",
    "plt.imshow(tmp_aiadata1,origin='lower',cmap='hot')"
   ]
  },
  {
   "cell_type": "code",
   "execution_count": null,
   "metadata": {},
   "outputs": [],
   "source": [
    "tmp_aiadata1_fft = np.fft.fft2(tmp_aiadata1)\n",
    "tmp_aiadata1_fft_amp,tmp_aiadata1_fft_phase = np.abs(tmp_aiadata1_fft),np.angle(tmp_aiadata1_fft)\n",
    "\n",
    "plt.figure(figsize=(12,6))\n",
    "plt.subplot(1,2,1)\n",
    "plt.imshow(np.log10(tmp_aiadata1_fft_amp),origin='lower',cmap='hot')\n",
    "plt.title(\"Amplitude\")\n",
    "plt.subplot(1,2,2)\n",
    "plt.imshow(tmp_aiadata1_fft_phase,origin='lower',cmap='hot')\n",
    "plt.title(\"Phase\")"
   ]
  },
  {
   "cell_type": "code",
   "execution_count": null,
   "metadata": {},
   "outputs": [],
   "source": [
    "tmp_aiadata1_fft = np.fft.fft2(tmp_aiadata1)\n",
    "tmp_aiadata1_fft_amp,tmp_aiadata1_fft_phase = np.abs(tmp_aiadata1_fft),np.angle(tmp_aiadata1_fft)\n",
    "\n",
    "plt.figure(figsize=(12,6))\n",
    "plt.subplot(1,2,1)\n",
    "plt.imshow(np.fft.fftshift(np.log10(tmp_aiadata1_fft_amp)),origin='lower',cmap='hot')\n",
    "plt.title(\"Amplitude\")\n",
    "plt.subplot(1,2,2)\n",
    "plt.imshow(np.fft.fftshift(tmp_aiadata1_fft_phase),origin='lower',cmap='hot')\n",
    "plt.title(\"Phase\")"
   ]
  },
  {
   "cell_type": "code",
   "execution_count": null,
   "metadata": {},
   "outputs": [],
   "source": [
    "tmp_aiadata1_ifft = np.abs(np.fft.ifft2(tmp_aiadata1_fft_amp*np.exp(1j*tmp_aiadata1_fft_phase)))\n",
    "\n",
    "plt.figure(figsize=(12,6))\n",
    "plt.subplot(1,2,1)\n",
    "plt.imshow(tmp_aiadata1_ifft,origin='lower',cmap='hot')\n",
    "plt.title(\"Inverse FT\")\n",
    "plt.subplot(1,2,2)\n",
    "plt.imshow(tmp_aiadata1,origin='lower',cmap='hot')\n",
    "plt.title(\"Original\")"
   ]
  },
  {
   "cell_type": "markdown",
   "metadata": {},
   "source": [
    "## Filtering: High and Low pass filters"
   ]
  },
  {
   "cell_type": "code",
   "execution_count": null,
   "metadata": {},
   "outputs": [],
   "source": [
    "xx,yy = np.meshgrid(np.linspace(-5,5,tmp_aiadata2.shape[0]),np.linspace(-5,5,tmp_aiadata2.shape[1]))\n",
    "highpassfilter = 1-np.exp(-15*(xx)**2-16*(yy)**2).T\n",
    "\n",
    "plt.figure(figsize=(12,6))\n",
    "plt.subplot(1,2,1)\n",
    "plt.imshow(highpassfilter,origin='lower',cmap='gray')\n",
    "plt.title(\"High pass filter, Fourier space\")\n",
    "plt.subplot(1,2,2)\n",
    "plt.imshow(np.log10(np.fft.fftshift(tmp_aiadata1_fft_amp)),origin='lower',cmap='hot')\n",
    "plt.title(\"AIA data: Fourier amplitude\")"
   ]
  },
  {
   "cell_type": "markdown",
   "metadata": {},
   "source": [
    "## Question: What does high pass filter give us?"
   ]
  },
  {
   "cell_type": "code",
   "execution_count": null,
   "metadata": {},
   "outputs": [],
   "source": [
    "highpassfilter = np.fft.fftshift(highpassfilter)\n",
    "tmp_aiadata1_ifft = np.abs(np.fft.ifft2(highpassfilter*tmp_aiadata1_fft_amp*np.exp(1j*tmp_aiadata1_fft_phase)))\n",
    "\n",
    "plt.figure(figsize=(12,6))\n",
    "plt.subplot(1,2,1)\n",
    "plt.imshow(tmp_aiadata1_ifft,origin='lower',cmap='hot')\n",
    "plt.title(\"Inverse FT high pass filter\")\n",
    "plt.subplot(1,2,2)\n",
    "plt.imshow(tmp_aiadata1,origin='lower',cmap='hot')\n",
    "plt.title(\"Original\")"
   ]
  },
  {
   "cell_type": "code",
   "execution_count": null,
   "metadata": {},
   "outputs": [],
   "source": [
    "xx,yy = np.meshgrid(np.linspace(-5,5,tmp_aiadata1.shape[0]),np.linspace(-5,5,tmp_aiadata1.shape[1]))\n",
    "lowpassfilter = np.exp(-16*(xx)**2-16*(yy)**2).T\n",
    "\n",
    "plt.figure(figsize=(12,6))\n",
    "plt.subplot(1,2,1)\n",
    "plt.imshow(lowpassfilter,origin='lower',cmap='gray')\n",
    "plt.title(\"Low pass filter: Fourier space\")\n",
    "plt.subplot(1,2,2)\n",
    "plt.imshow(np.log10(np.fft.fftshift(tmp_aiadata1_fft_amp)),origin='lower',cmap='hot')\n",
    "plt.title(\"AIA amplitude: Fourier space\")"
   ]
  },
  {
   "cell_type": "code",
   "execution_count": null,
   "metadata": {},
   "outputs": [],
   "source": [
    "lowpassfilter = np.fft.fftshift(lowpassfilter)\n",
    "tmp_aiadata1_ifft = np.abs(np.fft.ifft2(lowpassfilter*tmp_aiadata1_fft_amp*np.exp(1j*tmp_aiadata1_fft_phase)))\n",
    "\n",
    "plt.figure(figsize=(12,6))\n",
    "plt.subplot(1,2,1)\n",
    "plt.imshow(tmp_aiadata1_ifft,origin='lower',cmap='hot')\n",
    "plt.title(\"Inverse FT low pass filter\")\n",
    "plt.subplot(1,2,2)\n",
    "plt.imshow(tmp_aiadata1,origin='lower',cmap='hot')\n",
    "plt.title(\"Original\")"
   ]
  },
  {
   "cell_type": "markdown",
   "metadata": {
    "id": "UytMXCKkegQi"
   },
   "source": [
    "# Visualizing data frames\n",
    "\n",
    "<br>\n",
    "<font size=4>\n",
    "\n",
    "Not all astro data comes in fits format. Sometimes, tabulated data is saved as `csv' or **Comma Separated Values**. Think of these as Excel sheets with the column names as some variable, and rows representing different observations of these variables.\n",
    "    \n",
    "**$\\color{#76c893}{Pandas}$** is the go-to library for working with such data. Let's see how this works out.\n",
    "    \n",
    "    \n",
    "</font>"
   ]
  },
  {
   "cell_type": "markdown",
   "metadata": {
    "id": "4PGXKW-A7m9m"
   },
   "source": [
    "First, I have some data downloaded already. Let's get it from Google drive."
   ]
  },
  {
   "cell_type": "code",
   "execution_count": null,
   "metadata": {
    "colab": {
     "base_uri": "https://localhost:8080/"
    },
    "id": "Wm9VzI3vdvuz",
    "outputId": "48b4e092-17d9-4f08-f7ac-36b572179ceb"
   },
   "outputs": [],
   "source": [
    "!gdown --id 1D7OZ_ibIjl-2clagDXHBgiX_-BxAycmK"
   ]
  },
  {
   "cell_type": "code",
   "execution_count": null,
   "metadata": {
    "id": "ibjRnPdBjADC"
   },
   "outputs": [],
   "source": [
    "import pandas as pd"
   ]
  },
  {
   "cell_type": "code",
   "execution_count": null,
   "metadata": {
    "id": "QC2yrKHx8GPB"
   },
   "outputs": [],
   "source": [
    "Data = pd.read_csv(\"Skyserver_12_15_2020 3 45 07 AM.csv\",comment=\"#\")"
   ]
  },
  {
   "cell_type": "code",
   "execution_count": null,
   "metadata": {
    "colab": {
     "base_uri": "https://localhost:8080/",
     "height": 226
    },
    "id": "1-ep_JFM8Ix_",
    "outputId": "166b7864-1459-435a-e552-16c586b16d69"
   },
   "outputs": [],
   "source": [
    "Data.head()"
   ]
  },
  {
   "cell_type": "code",
   "execution_count": null,
   "metadata": {
    "colab": {
     "base_uri": "https://localhost:8080/"
    },
    "id": "pYWkAoW08Lj6",
    "outputId": "4e2ac86b-a4fd-448d-fa09-25b2fd2ef634"
   },
   "outputs": [],
   "source": [
    "Data['ra'].values.shape"
   ]
  },
  {
   "cell_type": "code",
   "execution_count": null,
   "metadata": {
    "colab": {
     "base_uri": "https://localhost:8080/"
    },
    "id": "X06gTcX8cohC",
    "outputId": "71f0de4e-817f-465a-84ab-68928fd60aa0"
   },
   "outputs": [],
   "source": [
    "Data.columns"
   ]
  },
  {
   "cell_type": "code",
   "execution_count": null,
   "metadata": {
    "colab": {
     "base_uri": "https://localhost:8080/",
     "height": 840
    },
    "id": "rmLQAsc-cWxT",
    "outputId": "e6c850d8-8e11-49e0-aa89-d2101fffbb5a"
   },
   "outputs": [],
   "source": [
    "Data.hist(column = [\"u\",\"g\",\"r\",\"i\",\"z\"],figsize=(12,12),bins=30)"
   ]
  },
  {
   "cell_type": "markdown",
   "metadata": {
    "id": "EYEhl9uKjwMU"
   },
   "source": [
    "Why is magnitude negative? Let's check"
   ]
  },
  {
   "cell_type": "code",
   "execution_count": null,
   "metadata": {
    "colab": {
     "base_uri": "https://localhost:8080/"
    },
    "id": "g-13PIphgrlU",
    "outputId": "d0addd04-5512-4a4c-cf74-ff4b948a80c8"
   },
   "outputs": [],
   "source": [
    "Data['i'].min()"
   ]
  },
  {
   "cell_type": "markdown",
   "metadata": {
    "id": "Sqfk8PA9j4dH"
   },
   "source": [
    "<br>\n",
    "<font size=4>\n",
    "\n",
    "-9999.0 or any such number represents missing data. Hence, we have two options:\n",
    "1. Drop rows where the value is this filler value.\n",
    "2. Interpolate across these values.\n",
    "\n",
    "</font>"
   ]
  },
  {
   "cell_type": "markdown",
   "metadata": {},
   "source": [
    "## Question: When do we interpolate?\n",
    "<br>"
   ]
  },
  {
   "cell_type": "markdown",
   "metadata": {},
   "source": [
    "<font size=4>\n",
    "    I don't like interpolation, so I will drop the rows.\n",
    "</font>"
   ]
  },
  {
   "cell_type": "code",
   "execution_count": null,
   "metadata": {
    "id": "z6vFe0mUkHFy"
   },
   "outputs": [],
   "source": [
    "#First, replace with nan\n",
    "Data = Data.replace(-9999.0,np.nan)\n",
    "Data.dropna(inplace=True)"
   ]
  },
  {
   "cell_type": "code",
   "execution_count": null,
   "metadata": {
    "colab": {
     "base_uri": "https://localhost:8080/"
    },
    "id": "dv8VyKqUlKQ_",
    "outputId": "9e7742b7-9a42-428b-b21e-64674094412e"
   },
   "outputs": [],
   "source": [
    "Data['i'].min()"
   ]
  },
  {
   "cell_type": "code",
   "execution_count": null,
   "metadata": {
    "colab": {
     "base_uri": "https://localhost:8080/",
     "height": 840
    },
    "id": "pDMDhwoOlY-s",
    "outputId": "1a9e3958-a95c-433c-82fa-2d6ed203525e"
   },
   "outputs": [],
   "source": [
    "Data.hist(column = [\"u\",\"g\",\"r\",\"i\",\"z\"],figsize=(12,12),bins=30)"
   ]
  },
  {
   "cell_type": "markdown",
   "metadata": {
    "id": "nzu_lygDdDei"
   },
   "source": [
    "# Exercise\n",
    "\n",
    "<br>\n",
    "<font size=4>\n",
    "Make a video with as many frames of this data as you like (there are 2500 or so frames), and as many passbands as you like, and submit. You may use any wavelength and any colormap you like. You will need to add the frame number on the title and keep updating it in the video. As a hint, use the `celluloid' library for making the vide.\n",
    "</font>"
   ]
  },
  {
   "cell_type": "raw",
   "metadata": {
    "colab": {
     "base_uri": "https://localhost:8080/"
    },
    "id": "historical-cincinnati",
    "outputId": "ddb9b6e8-61f7-41e8-e8ef-db29f1b17a0e"
   },
   "source": [
    "!pip install celluloid"
   ]
  },
  {
   "cell_type": "code",
   "execution_count": null,
   "metadata": {
    "id": "2UDh7yFHdnkU"
   },
   "outputs": [],
   "source": [
    "from celluloid import Camera"
   ]
  },
  {
   "cell_type": "code",
   "execution_count": null,
   "metadata": {
    "id": "vt3QD-h_dqQs"
   },
   "outputs": [],
   "source": [
    "# Write code to load data, take frame and then make video.\n",
    "# Check the example code here and adapt it: https://github.com/jwkvam/celluloid.\n",
    "fig = plt.figure(figsize=(8,8))\n",
    "camera = Camera(fig)\n",
    "for ind in np.arange(10):\n",
    "    val = np.log10(aiadata[ind])\n",
    "    plt.imshow(val,cmap='Blues_r',clim=(np.nanpercentile(np.log10(aiadata),5),np.nanpercentile(np.log10(aiadata),99)),origin='lower')\n",
    "    camera.snap()    \n"
   ]
  },
  {
   "cell_type": "code",
   "execution_count": null,
   "metadata": {
    "scrolled": true
   },
   "outputs": [],
   "source": [
    "from IPython.display import HTML\n",
    "animation = camera.animate()\n",
    "HTML(animation.to_html5_video())"
   ]
  }
 ],
 "metadata": {
  "colab": {
   "include_colab_link": true,
   "name": "Day_1.ipynb",
   "provenance": []
  },
  "kernelspec": {
   "display_name": "Python 3",
   "language": "python",
   "name": "python3"
  },
  "language_info": {
   "codemirror_mode": {
    "name": "ipython",
    "version": 3
   },
   "file_extension": ".py",
   "mimetype": "text/x-python",
   "name": "python",
   "nbconvert_exporter": "python",
   "pygments_lexer": "ipython3",
   "version": "3.6.9"
  }
 },
 "nbformat": 4,
 "nbformat_minor": 5
}
